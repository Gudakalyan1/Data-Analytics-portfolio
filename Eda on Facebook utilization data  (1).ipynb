{
 "cells": [
  {
   "cell_type": "code",
   "execution_count": 1,
   "metadata": {},
   "outputs": [],
   "source": [
    "import pandas as pd\n",
    "import numpy as np\n",
    "import matplotlib.pyplot as plt\n",
    "import seaborn as sns"
   ]
  },
  {
   "cell_type": "code",
   "execution_count": 2,
   "metadata": {},
   "outputs": [],
   "source": [
    "#importing the data \n",
    "df=pd.read_excel(r\"Downloads\\facebook user data.xlsx\")"
   ]
  },
  {
   "cell_type": "code",
   "execution_count": 3,
   "metadata": {},
   "outputs": [
    {
     "data": {
      "text/html": [
       "<div>\n",
       "<style scoped>\n",
       "    .dataframe tbody tr th:only-of-type {\n",
       "        vertical-align: middle;\n",
       "    }\n",
       "\n",
       "    .dataframe tbody tr th {\n",
       "        vertical-align: top;\n",
       "    }\n",
       "\n",
       "    .dataframe thead th {\n",
       "        text-align: right;\n",
       "    }\n",
       "</style>\n",
       "<table border=\"1\" class=\"dataframe\">\n",
       "  <thead>\n",
       "    <tr style=\"text-align: right;\">\n",
       "      <th></th>\n",
       "      <th>userid</th>\n",
       "      <th>age</th>\n",
       "      <th>dob_day</th>\n",
       "      <th>dob_year</th>\n",
       "      <th>dob_month</th>\n",
       "      <th>gender</th>\n",
       "      <th>tenure</th>\n",
       "      <th>friend_count</th>\n",
       "      <th>friendships_initiated</th>\n",
       "      <th>likes</th>\n",
       "      <th>likes_received</th>\n",
       "      <th>mobile_likes</th>\n",
       "      <th>mobile_likes_received</th>\n",
       "      <th>www_likes</th>\n",
       "      <th>www_likes_received</th>\n",
       "    </tr>\n",
       "  </thead>\n",
       "  <tbody>\n",
       "    <tr>\n",
       "      <th>0</th>\n",
       "      <td>2094382</td>\n",
       "      <td>14</td>\n",
       "      <td>19</td>\n",
       "      <td>1999</td>\n",
       "      <td>11</td>\n",
       "      <td>male</td>\n",
       "      <td>266.0</td>\n",
       "      <td>0</td>\n",
       "      <td>0</td>\n",
       "      <td>0</td>\n",
       "      <td>0</td>\n",
       "      <td>0</td>\n",
       "      <td>0</td>\n",
       "      <td>0</td>\n",
       "      <td>0</td>\n",
       "    </tr>\n",
       "    <tr>\n",
       "      <th>1</th>\n",
       "      <td>1192601</td>\n",
       "      <td>14</td>\n",
       "      <td>2</td>\n",
       "      <td>1999</td>\n",
       "      <td>11</td>\n",
       "      <td>female</td>\n",
       "      <td>6.0</td>\n",
       "      <td>0</td>\n",
       "      <td>0</td>\n",
       "      <td>0</td>\n",
       "      <td>0</td>\n",
       "      <td>0</td>\n",
       "      <td>0</td>\n",
       "      <td>0</td>\n",
       "      <td>0</td>\n",
       "    </tr>\n",
       "    <tr>\n",
       "      <th>2</th>\n",
       "      <td>2083884</td>\n",
       "      <td>14</td>\n",
       "      <td>16</td>\n",
       "      <td>1999</td>\n",
       "      <td>11</td>\n",
       "      <td>male</td>\n",
       "      <td>13.0</td>\n",
       "      <td>0</td>\n",
       "      <td>0</td>\n",
       "      <td>0</td>\n",
       "      <td>0</td>\n",
       "      <td>0</td>\n",
       "      <td>0</td>\n",
       "      <td>0</td>\n",
       "      <td>0</td>\n",
       "    </tr>\n",
       "    <tr>\n",
       "      <th>3</th>\n",
       "      <td>1203168</td>\n",
       "      <td>14</td>\n",
       "      <td>25</td>\n",
       "      <td>1999</td>\n",
       "      <td>12</td>\n",
       "      <td>female</td>\n",
       "      <td>93.0</td>\n",
       "      <td>0</td>\n",
       "      <td>0</td>\n",
       "      <td>0</td>\n",
       "      <td>0</td>\n",
       "      <td>0</td>\n",
       "      <td>0</td>\n",
       "      <td>0</td>\n",
       "      <td>0</td>\n",
       "    </tr>\n",
       "    <tr>\n",
       "      <th>4</th>\n",
       "      <td>1733186</td>\n",
       "      <td>14</td>\n",
       "      <td>4</td>\n",
       "      <td>1999</td>\n",
       "      <td>12</td>\n",
       "      <td>male</td>\n",
       "      <td>82.0</td>\n",
       "      <td>0</td>\n",
       "      <td>0</td>\n",
       "      <td>0</td>\n",
       "      <td>0</td>\n",
       "      <td>0</td>\n",
       "      <td>0</td>\n",
       "      <td>0</td>\n",
       "      <td>0</td>\n",
       "    </tr>\n",
       "  </tbody>\n",
       "</table>\n",
       "</div>"
      ],
      "text/plain": [
       "    userid  age  dob_day  dob_year  dob_month  gender  tenure  friend_count  \\\n",
       "0  2094382   14       19      1999         11    male   266.0             0   \n",
       "1  1192601   14        2      1999         11  female     6.0             0   \n",
       "2  2083884   14       16      1999         11    male    13.0             0   \n",
       "3  1203168   14       25      1999         12  female    93.0             0   \n",
       "4  1733186   14        4      1999         12    male    82.0             0   \n",
       "\n",
       "   friendships_initiated  likes  likes_received  mobile_likes  \\\n",
       "0                      0      0               0             0   \n",
       "1                      0      0               0             0   \n",
       "2                      0      0               0             0   \n",
       "3                      0      0               0             0   \n",
       "4                      0      0               0             0   \n",
       "\n",
       "   mobile_likes_received  www_likes  www_likes_received  \n",
       "0                      0          0                   0  \n",
       "1                      0          0                   0  \n",
       "2                      0          0                   0  \n",
       "3                      0          0                   0  \n",
       "4                      0          0                   0  "
      ]
     },
     "execution_count": 3,
     "metadata": {},
     "output_type": "execute_result"
    }
   ],
   "source": [
    "df.head()"
   ]
  },
  {
   "cell_type": "code",
   "execution_count": 4,
   "metadata": {},
   "outputs": [
    {
     "data": {
      "text/plain": [
       "(99003, 15)"
      ]
     },
     "execution_count": 4,
     "metadata": {},
     "output_type": "execute_result"
    }
   ],
   "source": [
    "df.shape"
   ]
  },
  {
   "cell_type": "code",
   "execution_count": 5,
   "metadata": {},
   "outputs": [
    {
     "data": {
      "text/plain": [
       "0"
      ]
     },
     "execution_count": 5,
     "metadata": {},
     "output_type": "execute_result"
    }
   ],
   "source": [
    "#checking for duplicate values in the data set\n",
    "df.duplicated().sum()"
   ]
  },
  {
   "cell_type": "code",
   "execution_count": 6,
   "metadata": {},
   "outputs": [
    {
     "data": {
      "text/plain": [
       "userid                     0\n",
       "age                        0\n",
       "dob_day                    0\n",
       "dob_year                   0\n",
       "dob_month                  0\n",
       "gender                   175\n",
       "tenure                     2\n",
       "friend_count               0\n",
       "friendships_initiated      0\n",
       "likes                      0\n",
       "likes_received             0\n",
       "mobile_likes               0\n",
       "mobile_likes_received      0\n",
       "www_likes                  0\n",
       "www_likes_received         0\n",
       "dtype: int64"
      ]
     },
     "execution_count": 6,
     "metadata": {},
     "output_type": "execute_result"
    }
   ],
   "source": [
    "#Checking for null values \n",
    "df.isna().sum()"
   ]
  },
  {
   "cell_type": "code",
   "execution_count": 7,
   "metadata": {},
   "outputs": [],
   "source": [
    "#there is more number of null values in the gender column so i'm filling it with mode of that particular column,why beacuse \n",
    "# we can't fill categorical data with mean or median."
   ]
  },
  {
   "cell_type": "code",
   "execution_count": 8,
   "metadata": {},
   "outputs": [
    {
     "data": {
      "text/html": [
       "<div>\n",
       "<style scoped>\n",
       "    .dataframe tbody tr th:only-of-type {\n",
       "        vertical-align: middle;\n",
       "    }\n",
       "\n",
       "    .dataframe tbody tr th {\n",
       "        vertical-align: top;\n",
       "    }\n",
       "\n",
       "    .dataframe thead th {\n",
       "        text-align: right;\n",
       "    }\n",
       "</style>\n",
       "<table border=\"1\" class=\"dataframe\">\n",
       "  <thead>\n",
       "    <tr style=\"text-align: right;\">\n",
       "      <th></th>\n",
       "      <th>userid</th>\n",
       "      <th>age</th>\n",
       "      <th>dob_day</th>\n",
       "      <th>dob_year</th>\n",
       "      <th>dob_month</th>\n",
       "      <th>gender</th>\n",
       "      <th>tenure</th>\n",
       "      <th>friend_count</th>\n",
       "      <th>friendships_initiated</th>\n",
       "      <th>likes</th>\n",
       "      <th>likes_received</th>\n",
       "      <th>mobile_likes</th>\n",
       "      <th>mobile_likes_received</th>\n",
       "      <th>www_likes</th>\n",
       "      <th>www_likes_received</th>\n",
       "    </tr>\n",
       "  </thead>\n",
       "  <tbody>\n",
       "    <tr>\n",
       "      <th>0</th>\n",
       "      <td>2094382</td>\n",
       "      <td>14</td>\n",
       "      <td>19</td>\n",
       "      <td>1999</td>\n",
       "      <td>11</td>\n",
       "      <td>male</td>\n",
       "      <td>266.0</td>\n",
       "      <td>0</td>\n",
       "      <td>0</td>\n",
       "      <td>0</td>\n",
       "      <td>0</td>\n",
       "      <td>0</td>\n",
       "      <td>0</td>\n",
       "      <td>0</td>\n",
       "      <td>0</td>\n",
       "    </tr>\n",
       "    <tr>\n",
       "      <th>1</th>\n",
       "      <td>1192601</td>\n",
       "      <td>14</td>\n",
       "      <td>2</td>\n",
       "      <td>1999</td>\n",
       "      <td>11</td>\n",
       "      <td>female</td>\n",
       "      <td>6.0</td>\n",
       "      <td>0</td>\n",
       "      <td>0</td>\n",
       "      <td>0</td>\n",
       "      <td>0</td>\n",
       "      <td>0</td>\n",
       "      <td>0</td>\n",
       "      <td>0</td>\n",
       "      <td>0</td>\n",
       "    </tr>\n",
       "    <tr>\n",
       "      <th>2</th>\n",
       "      <td>2083884</td>\n",
       "      <td>14</td>\n",
       "      <td>16</td>\n",
       "      <td>1999</td>\n",
       "      <td>11</td>\n",
       "      <td>male</td>\n",
       "      <td>13.0</td>\n",
       "      <td>0</td>\n",
       "      <td>0</td>\n",
       "      <td>0</td>\n",
       "      <td>0</td>\n",
       "      <td>0</td>\n",
       "      <td>0</td>\n",
       "      <td>0</td>\n",
       "      <td>0</td>\n",
       "    </tr>\n",
       "    <tr>\n",
       "      <th>3</th>\n",
       "      <td>1203168</td>\n",
       "      <td>14</td>\n",
       "      <td>25</td>\n",
       "      <td>1999</td>\n",
       "      <td>12</td>\n",
       "      <td>female</td>\n",
       "      <td>93.0</td>\n",
       "      <td>0</td>\n",
       "      <td>0</td>\n",
       "      <td>0</td>\n",
       "      <td>0</td>\n",
       "      <td>0</td>\n",
       "      <td>0</td>\n",
       "      <td>0</td>\n",
       "      <td>0</td>\n",
       "    </tr>\n",
       "    <tr>\n",
       "      <th>4</th>\n",
       "      <td>1733186</td>\n",
       "      <td>14</td>\n",
       "      <td>4</td>\n",
       "      <td>1999</td>\n",
       "      <td>12</td>\n",
       "      <td>male</td>\n",
       "      <td>82.0</td>\n",
       "      <td>0</td>\n",
       "      <td>0</td>\n",
       "      <td>0</td>\n",
       "      <td>0</td>\n",
       "      <td>0</td>\n",
       "      <td>0</td>\n",
       "      <td>0</td>\n",
       "      <td>0</td>\n",
       "    </tr>\n",
       "    <tr>\n",
       "      <th>...</th>\n",
       "      <td>...</td>\n",
       "      <td>...</td>\n",
       "      <td>...</td>\n",
       "      <td>...</td>\n",
       "      <td>...</td>\n",
       "      <td>...</td>\n",
       "      <td>...</td>\n",
       "      <td>...</td>\n",
       "      <td>...</td>\n",
       "      <td>...</td>\n",
       "      <td>...</td>\n",
       "      <td>...</td>\n",
       "      <td>...</td>\n",
       "      <td>...</td>\n",
       "      <td>...</td>\n",
       "    </tr>\n",
       "    <tr>\n",
       "      <th>98998</th>\n",
       "      <td>1268299</td>\n",
       "      <td>68</td>\n",
       "      <td>4</td>\n",
       "      <td>1945</td>\n",
       "      <td>4</td>\n",
       "      <td>female</td>\n",
       "      <td>541.0</td>\n",
       "      <td>2118</td>\n",
       "      <td>341</td>\n",
       "      <td>3996</td>\n",
       "      <td>18089</td>\n",
       "      <td>3505</td>\n",
       "      <td>11887</td>\n",
       "      <td>491</td>\n",
       "      <td>6202</td>\n",
       "    </tr>\n",
       "    <tr>\n",
       "      <th>98999</th>\n",
       "      <td>1256153</td>\n",
       "      <td>18</td>\n",
       "      <td>12</td>\n",
       "      <td>1995</td>\n",
       "      <td>3</td>\n",
       "      <td>female</td>\n",
       "      <td>21.0</td>\n",
       "      <td>1968</td>\n",
       "      <td>1720</td>\n",
       "      <td>4401</td>\n",
       "      <td>13412</td>\n",
       "      <td>4399</td>\n",
       "      <td>10592</td>\n",
       "      <td>2</td>\n",
       "      <td>2820</td>\n",
       "    </tr>\n",
       "    <tr>\n",
       "      <th>99000</th>\n",
       "      <td>1195943</td>\n",
       "      <td>15</td>\n",
       "      <td>10</td>\n",
       "      <td>1998</td>\n",
       "      <td>5</td>\n",
       "      <td>female</td>\n",
       "      <td>111.0</td>\n",
       "      <td>2002</td>\n",
       "      <td>1524</td>\n",
       "      <td>11959</td>\n",
       "      <td>12554</td>\n",
       "      <td>11959</td>\n",
       "      <td>11462</td>\n",
       "      <td>0</td>\n",
       "      <td>1092</td>\n",
       "    </tr>\n",
       "    <tr>\n",
       "      <th>99001</th>\n",
       "      <td>1468023</td>\n",
       "      <td>23</td>\n",
       "      <td>11</td>\n",
       "      <td>1990</td>\n",
       "      <td>4</td>\n",
       "      <td>female</td>\n",
       "      <td>416.0</td>\n",
       "      <td>2560</td>\n",
       "      <td>185</td>\n",
       "      <td>4506</td>\n",
       "      <td>6516</td>\n",
       "      <td>4506</td>\n",
       "      <td>5760</td>\n",
       "      <td>0</td>\n",
       "      <td>756</td>\n",
       "    </tr>\n",
       "    <tr>\n",
       "      <th>99002</th>\n",
       "      <td>1397896</td>\n",
       "      <td>39</td>\n",
       "      <td>15</td>\n",
       "      <td>1974</td>\n",
       "      <td>5</td>\n",
       "      <td>female</td>\n",
       "      <td>397.0</td>\n",
       "      <td>2049</td>\n",
       "      <td>768</td>\n",
       "      <td>9410</td>\n",
       "      <td>12443</td>\n",
       "      <td>9410</td>\n",
       "      <td>9530</td>\n",
       "      <td>0</td>\n",
       "      <td>2913</td>\n",
       "    </tr>\n",
       "  </tbody>\n",
       "</table>\n",
       "<p>99003 rows × 15 columns</p>\n",
       "</div>"
      ],
      "text/plain": [
       "        userid  age  dob_day  dob_year  dob_month  gender  tenure  \\\n",
       "0      2094382   14       19      1999         11    male   266.0   \n",
       "1      1192601   14        2      1999         11  female     6.0   \n",
       "2      2083884   14       16      1999         11    male    13.0   \n",
       "3      1203168   14       25      1999         12  female    93.0   \n",
       "4      1733186   14        4      1999         12    male    82.0   \n",
       "...        ...  ...      ...       ...        ...     ...     ...   \n",
       "98998  1268299   68        4      1945          4  female   541.0   \n",
       "98999  1256153   18       12      1995          3  female    21.0   \n",
       "99000  1195943   15       10      1998          5  female   111.0   \n",
       "99001  1468023   23       11      1990          4  female   416.0   \n",
       "99002  1397896   39       15      1974          5  female   397.0   \n",
       "\n",
       "       friend_count  friendships_initiated  likes  likes_received  \\\n",
       "0                 0                      0      0               0   \n",
       "1                 0                      0      0               0   \n",
       "2                 0                      0      0               0   \n",
       "3                 0                      0      0               0   \n",
       "4                 0                      0      0               0   \n",
       "...             ...                    ...    ...             ...   \n",
       "98998          2118                    341   3996           18089   \n",
       "98999          1968                   1720   4401           13412   \n",
       "99000          2002                   1524  11959           12554   \n",
       "99001          2560                    185   4506            6516   \n",
       "99002          2049                    768   9410           12443   \n",
       "\n",
       "       mobile_likes  mobile_likes_received  www_likes  www_likes_received  \n",
       "0                 0                      0          0                   0  \n",
       "1                 0                      0          0                   0  \n",
       "2                 0                      0          0                   0  \n",
       "3                 0                      0          0                   0  \n",
       "4                 0                      0          0                   0  \n",
       "...             ...                    ...        ...                 ...  \n",
       "98998          3505                  11887        491                6202  \n",
       "98999          4399                  10592          2                2820  \n",
       "99000         11959                  11462          0                1092  \n",
       "99001          4506                   5760          0                 756  \n",
       "99002          9410                   9530          0                2913  \n",
       "\n",
       "[99003 rows x 15 columns]"
      ]
     },
     "execution_count": 8,
     "metadata": {},
     "output_type": "execute_result"
    }
   ],
   "source": [
    "#replacing null values with the mode of the column\n",
    "df.fillna(df)"
   ]
  },
  {
   "cell_type": "code",
   "execution_count": 9,
   "metadata": {},
   "outputs": [
    {
     "data": {
      "text/plain": [
       "0    male\n",
       "dtype: object"
      ]
     },
     "execution_count": 9,
     "metadata": {},
     "output_type": "execute_result"
    }
   ],
   "source": [
    "df['gender'].mode()"
   ]
  },
  {
   "cell_type": "code",
   "execution_count": 10,
   "metadata": {},
   "outputs": [],
   "source": [
    "df['gender'].fillna('male',axis=0,inplace=True)"
   ]
  },
  {
   "cell_type": "code",
   "execution_count": 11,
   "metadata": {},
   "outputs": [
    {
     "data": {
      "text/plain": [
       "537.8873748750012"
      ]
     },
     "execution_count": 11,
     "metadata": {},
     "output_type": "execute_result"
    }
   ],
   "source": [
    "df.tenure.mean()"
   ]
  },
  {
   "cell_type": "code",
   "execution_count": 12,
   "metadata": {},
   "outputs": [
    {
     "data": {
      "text/plain": [
       "0.0"
      ]
     },
     "execution_count": 12,
     "metadata": {},
     "output_type": "execute_result"
    }
   ],
   "source": [
    "df.tenure.min()"
   ]
  },
  {
   "cell_type": "code",
   "execution_count": 13,
   "metadata": {},
   "outputs": [
    {
     "data": {
      "text/plain": [
       "3139.0"
      ]
     },
     "execution_count": 13,
     "metadata": {},
     "output_type": "execute_result"
    }
   ],
   "source": [
    "df.tenure.max()"
   ]
  },
  {
   "cell_type": "code",
   "execution_count": 14,
   "metadata": {},
   "outputs": [
    {
     "name": "stderr",
     "output_type": "stream",
     "text": [
      "C:\\Users\\GUDA\\anaconda3\\lib\\site-packages\\seaborn\\distributions.py:2551: FutureWarning: `distplot` is a deprecated function and will be removed in a future version. Please adapt your code to use either `displot` (a figure-level function with similar flexibility) or `histplot` (an axes-level function for histograms).\n",
      "  warnings.warn(msg, FutureWarning)\n"
     ]
    },
    {
     "data": {
      "image/png": "[encoded data removed]",
      "text/plain": [
       "<Figure size 720x504 with 1 Axes>"
      ]
     },
     "metadata": {
      "needs_background": "light"
     },
     "output_type": "display_data"
    }
   ],
   "source": [
    "#checking for noise in the tenure column\n",
    "plt.figure(figsize=(10,7))\n",
    "sns.distplot(df.tenure)\n",
    "plt.show()"
   ]
  },
  {
   "cell_type": "code",
   "execution_count": 15,
   "metadata": {},
   "outputs": [],
   "source": [
    "#data is effected by noise so im filling it with median of the column"
   ]
  },
  {
   "cell_type": "code",
   "execution_count": 16,
   "metadata": {},
   "outputs": [],
   "source": [
    "#filling tenure column with median \n",
    "df['tenure'].fillna(df.tenure.median(),axis=0,inplace=True)"
   ]
  },
  {
   "cell_type": "code",
   "execution_count": 17,
   "metadata": {},
   "outputs": [
    {
     "data": {
      "text/plain": [
       "userid                   0\n",
       "age                      0\n",
       "dob_day                  0\n",
       "dob_year                 0\n",
       "dob_month                0\n",
       "gender                   0\n",
       "tenure                   0\n",
       "friend_count             0\n",
       "friendships_initiated    0\n",
       "likes                    0\n",
       "likes_received           0\n",
       "mobile_likes             0\n",
       "mobile_likes_received    0\n",
       "www_likes                0\n",
       "www_likes_received       0\n",
       "dtype: int64"
      ]
     },
     "execution_count": 17,
     "metadata": {},
     "output_type": "execute_result"
    }
   ],
   "source": [
    "df.isna().sum()"
   ]
  },
  {
   "cell_type": "code",
   "execution_count": 18,
   "metadata": {},
   "outputs": [
    {
     "data": {
      "text/html": [
       "<div>\n",
       "<style scoped>\n",
       "    .dataframe tbody tr th:only-of-type {\n",
       "        vertical-align: middle;\n",
       "    }\n",
       "\n",
       "    .dataframe tbody tr th {\n",
       "        vertical-align: top;\n",
       "    }\n",
       "\n",
       "    .dataframe thead th {\n",
       "        text-align: right;\n",
       "    }\n",
       "</style>\n",
       "<table border=\"1\" class=\"dataframe\">\n",
       "  <thead>\n",
       "    <tr style=\"text-align: right;\">\n",
       "      <th></th>\n",
       "      <th>userid</th>\n",
       "      <th>age</th>\n",
       "      <th>dob_day</th>\n",
       "      <th>dob_year</th>\n",
       "      <th>dob_month</th>\n",
       "      <th>tenure</th>\n",
       "      <th>friend_count</th>\n",
       "      <th>friendships_initiated</th>\n",
       "      <th>likes</th>\n",
       "      <th>likes_received</th>\n",
       "      <th>mobile_likes</th>\n",
       "      <th>mobile_likes_received</th>\n",
       "      <th>www_likes</th>\n",
       "      <th>www_likes_received</th>\n",
       "    </tr>\n",
       "  </thead>\n",
       "  <tbody>\n",
       "    <tr>\n",
       "      <th>userid</th>\n",
       "      <td>1.000000</td>\n",
       "      <td>-0.007265</td>\n",
       "      <td>-0.000839</td>\n",
       "      <td>0.007265</td>\n",
       "      <td>0.002924</td>\n",
       "      <td>-0.003449</td>\n",
       "      <td>-0.001314</td>\n",
       "      <td>-0.001591</td>\n",
       "      <td>-0.002875</td>\n",
       "      <td>0.001526</td>\n",
       "      <td>-0.004868</td>\n",
       "      <td>0.001753</td>\n",
       "      <td>0.001828</td>\n",
       "      <td>0.001074</td>\n",
       "    </tr>\n",
       "    <tr>\n",
       "      <th>age</th>\n",
       "      <td>-0.007265</td>\n",
       "      <td>1.000000</td>\n",
       "      <td>0.035035</td>\n",
       "      <td>-1.000000</td>\n",
       "      <td>0.025167</td>\n",
       "      <td>0.462696</td>\n",
       "      <td>-0.027407</td>\n",
       "      <td>-0.058059</td>\n",
       "      <td>-0.013009</td>\n",
       "      <td>-0.022570</td>\n",
       "      <td>-0.026715</td>\n",
       "      <td>-0.024248</td>\n",
       "      <td>0.015585</td>\n",
       "      <td>-0.018224</td>\n",
       "    </tr>\n",
       "    <tr>\n",
       "      <th>dob_day</th>\n",
       "      <td>-0.000839</td>\n",
       "      <td>0.035035</td>\n",
       "      <td>1.000000</td>\n",
       "      <td>-0.035035</td>\n",
       "      <td>0.129443</td>\n",
       "      <td>0.041859</td>\n",
       "      <td>0.021961</td>\n",
       "      <td>0.022999</td>\n",
       "      <td>0.015980</td>\n",
       "      <td>0.001367</td>\n",
       "      <td>0.014541</td>\n",
       "      <td>0.000497</td>\n",
       "      <td>0.009353</td>\n",
       "      <td>0.002460</td>\n",
       "    </tr>\n",
       "    <tr>\n",
       "      <th>dob_year</th>\n",
       "      <td>0.007265</td>\n",
       "      <td>-1.000000</td>\n",
       "      <td>-0.035035</td>\n",
       "      <td>1.000000</td>\n",
       "      <td>-0.025167</td>\n",
       "      <td>-0.462696</td>\n",
       "      <td>0.027407</td>\n",
       "      <td>0.058059</td>\n",
       "      <td>0.013009</td>\n",
       "      <td>0.022570</td>\n",
       "      <td>0.026715</td>\n",
       "      <td>0.024248</td>\n",
       "      <td>-0.015585</td>\n",
       "      <td>0.018224</td>\n",
       "    </tr>\n",
       "    <tr>\n",
       "      <th>dob_month</th>\n",
       "      <td>0.002924</td>\n",
       "      <td>0.025167</td>\n",
       "      <td>0.129443</td>\n",
       "      <td>-0.025167</td>\n",
       "      <td>1.000000</td>\n",
       "      <td>0.029445</td>\n",
       "      <td>0.019804</td>\n",
       "      <td>0.020075</td>\n",
       "      <td>0.014147</td>\n",
       "      <td>0.006495</td>\n",
       "      <td>0.010400</td>\n",
       "      <td>0.006435</td>\n",
       "      <td>0.012136</td>\n",
       "      <td>0.006003</td>\n",
       "    </tr>\n",
       "    <tr>\n",
       "      <th>tenure</th>\n",
       "      <td>-0.003449</td>\n",
       "      <td>0.462696</td>\n",
       "      <td>0.041859</td>\n",
       "      <td>-0.462696</td>\n",
       "      <td>0.029445</td>\n",
       "      <td>1.000000</td>\n",
       "      <td>0.166257</td>\n",
       "      <td>0.133507</td>\n",
       "      <td>0.057133</td>\n",
       "      <td>0.027745</td>\n",
       "      <td>0.028053</td>\n",
       "      <td>0.023971</td>\n",
       "      <td>0.070757</td>\n",
       "      <td>0.030553</td>\n",
       "    </tr>\n",
       "    <tr>\n",
       "      <th>friend_count</th>\n",
       "      <td>-0.001314</td>\n",
       "      <td>-0.027407</td>\n",
       "      <td>0.021961</td>\n",
       "      <td>0.027407</td>\n",
       "      <td>0.019804</td>\n",
       "      <td>0.166257</td>\n",
       "      <td>1.000000</td>\n",
       "      <td>0.825850</td>\n",
       "      <td>0.298017</td>\n",
       "      <td>0.236463</td>\n",
       "      <td>0.235656</td>\n",
       "      <td>0.232701</td>\n",
       "      <td>0.229803</td>\n",
       "      <td>0.220727</td>\n",
       "    </tr>\n",
       "    <tr>\n",
       "      <th>friendships_initiated</th>\n",
       "      <td>-0.001591</td>\n",
       "      <td>-0.058059</td>\n",
       "      <td>0.022999</td>\n",
       "      <td>0.058059</td>\n",
       "      <td>0.020075</td>\n",
       "      <td>0.133507</td>\n",
       "      <td>0.825850</td>\n",
       "      <td>1.000000</td>\n",
       "      <td>0.285592</td>\n",
       "      <td>0.175131</td>\n",
       "      <td>0.229808</td>\n",
       "      <td>0.173804</td>\n",
       "      <td>0.214022</td>\n",
       "      <td>0.161439</td>\n",
       "    </tr>\n",
       "    <tr>\n",
       "      <th>likes</th>\n",
       "      <td>-0.002875</td>\n",
       "      <td>-0.013009</td>\n",
       "      <td>0.015980</td>\n",
       "      <td>0.013009</td>\n",
       "      <td>0.014147</td>\n",
       "      <td>0.057133</td>\n",
       "      <td>0.298017</td>\n",
       "      <td>0.285592</td>\n",
       "      <td>1.000000</td>\n",
       "      <td>0.327376</td>\n",
       "      <td>0.871652</td>\n",
       "      <td>0.329258</td>\n",
       "      <td>0.644960</td>\n",
       "      <td>0.295687</td>\n",
       "    </tr>\n",
       "    <tr>\n",
       "      <th>likes_received</th>\n",
       "      <td>0.001526</td>\n",
       "      <td>-0.022570</td>\n",
       "      <td>0.001367</td>\n",
       "      <td>0.022570</td>\n",
       "      <td>0.006495</td>\n",
       "      <td>0.027745</td>\n",
       "      <td>0.236463</td>\n",
       "      <td>0.175131</td>\n",
       "      <td>0.327376</td>\n",
       "      <td>1.000000</td>\n",
       "      <td>0.256998</td>\n",
       "      <td>0.973679</td>\n",
       "      <td>0.255365</td>\n",
       "      <td>0.947990</td>\n",
       "    </tr>\n",
       "    <tr>\n",
       "      <th>mobile_likes</th>\n",
       "      <td>-0.004868</td>\n",
       "      <td>-0.026715</td>\n",
       "      <td>0.014541</td>\n",
       "      <td>0.026715</td>\n",
       "      <td>0.010400</td>\n",
       "      <td>0.028053</td>\n",
       "      <td>0.235656</td>\n",
       "      <td>0.229808</td>\n",
       "      <td>0.871652</td>\n",
       "      <td>0.256998</td>\n",
       "      <td>1.000000</td>\n",
       "      <td>0.288513</td>\n",
       "      <td>0.187619</td>\n",
       "      <td>0.190173</td>\n",
       "    </tr>\n",
       "    <tr>\n",
       "      <th>mobile_likes_received</th>\n",
       "      <td>0.001753</td>\n",
       "      <td>-0.024248</td>\n",
       "      <td>0.000497</td>\n",
       "      <td>0.024248</td>\n",
       "      <td>0.006435</td>\n",
       "      <td>0.023971</td>\n",
       "      <td>0.232701</td>\n",
       "      <td>0.173804</td>\n",
       "      <td>0.329258</td>\n",
       "      <td>0.973679</td>\n",
       "      <td>0.288513</td>\n",
       "      <td>1.000000</td>\n",
       "      <td>0.209997</td>\n",
       "      <td>0.850490</td>\n",
       "    </tr>\n",
       "    <tr>\n",
       "      <th>www_likes</th>\n",
       "      <td>0.001828</td>\n",
       "      <td>0.015585</td>\n",
       "      <td>0.009353</td>\n",
       "      <td>-0.015585</td>\n",
       "      <td>0.012136</td>\n",
       "      <td>0.070757</td>\n",
       "      <td>0.229803</td>\n",
       "      <td>0.214022</td>\n",
       "      <td>0.644960</td>\n",
       "      <td>0.255365</td>\n",
       "      <td>0.187619</td>\n",
       "      <td>0.209997</td>\n",
       "      <td>1.000000</td>\n",
       "      <td>0.296053</td>\n",
       "    </tr>\n",
       "    <tr>\n",
       "      <th>www_likes_received</th>\n",
       "      <td>0.001074</td>\n",
       "      <td>-0.018224</td>\n",
       "      <td>0.002460</td>\n",
       "      <td>0.018224</td>\n",
       "      <td>0.006003</td>\n",
       "      <td>0.030553</td>\n",
       "      <td>0.220727</td>\n",
       "      <td>0.161439</td>\n",
       "      <td>0.295687</td>\n",
       "      <td>0.947990</td>\n",
       "      <td>0.190173</td>\n",
       "      <td>0.850490</td>\n",
       "      <td>0.296053</td>\n",
       "      <td>1.000000</td>\n",
       "    </tr>\n",
       "  </tbody>\n",
       "</table>\n",
       "</div>"
      ],
      "text/plain": [
       "                         userid       age   dob_day  dob_year  dob_month  \\\n",
       "userid                 1.000000 -0.007265 -0.000839  0.007265   0.002924   \n",
       "age                   -0.007265  1.000000  0.035035 -1.000000   0.025167   \n",
       "dob_day               -0.000839  0.035035  1.000000 -0.035035   0.129443   \n",
       "dob_year               0.007265 -1.000000 -0.035035  1.000000  -0.025167   \n",
       "dob_month              0.002924  0.025167  0.129443 -0.025167   1.000000   \n",
       "tenure                -0.003449  0.462696  0.041859 -0.462696   0.029445   \n",
       "friend_count          -0.001314 -0.027407  0.021961  0.027407   0.019804   \n",
       "friendships_initiated -0.001591 -0.058059  0.022999  0.058059   0.020075   \n",
       "likes                 -0.002875 -0.013009  0.015980  0.013009   0.014147   \n",
       "likes_received         0.001526 -0.022570  0.001367  0.022570   0.006495   \n",
       "mobile_likes          -0.004868 -0.026715  0.014541  0.026715   0.010400   \n",
       "mobile_likes_received  0.001753 -0.024248  0.000497  0.024248   0.006435   \n",
       "www_likes              0.001828  0.015585  0.009353 -0.015585   0.012136   \n",
       "www_likes_received     0.001074 -0.018224  0.002460  0.018224   0.006003   \n",
       "\n",
       "                         tenure  friend_count  friendships_initiated  \\\n",
       "userid                -0.003449     -0.001314              -0.001591   \n",
       "age                    0.462696     -0.027407              -0.058059   \n",
       "dob_day                0.041859      0.021961               0.022999   \n",
       "dob_year              -0.462696      0.027407               0.058059   \n",
       "dob_month              0.029445      0.019804               0.020075   \n",
       "tenure                 1.000000      0.166257               0.133507   \n",
       "friend_count           0.166257      1.000000               0.825850   \n",
       "friendships_initiated  0.133507      0.825850               1.000000   \n",
       "likes                  0.057133      0.298017               0.285592   \n",
       "likes_received         0.027745      0.236463               0.175131   \n",
       "mobile_likes           0.028053      0.235656               0.229808   \n",
       "mobile_likes_received  0.023971      0.232701               0.173804   \n",
       "www_likes              0.070757      0.229803               0.214022   \n",
       "www_likes_received     0.030553      0.220727               0.161439   \n",
       "\n",
       "                          likes  likes_received  mobile_likes  \\\n",
       "userid                -0.002875        0.001526     -0.004868   \n",
       "age                   -0.013009       -0.022570     -0.026715   \n",
       "dob_day                0.015980        0.001367      0.014541   \n",
       "dob_year               0.013009        0.022570      0.026715   \n",
       "dob_month              0.014147        0.006495      0.010400   \n",
       "tenure                 0.057133        0.027745      0.028053   \n",
       "friend_count           0.298017        0.236463      0.235656   \n",
       "friendships_initiated  0.285592        0.175131      0.229808   \n",
       "likes                  1.000000        0.327376      0.871652   \n",
       "likes_received         0.327376        1.000000      0.256998   \n",
       "mobile_likes           0.871652        0.256998      1.000000   \n",
       "mobile_likes_received  0.329258        0.973679      0.288513   \n",
       "www_likes              0.644960        0.255365      0.187619   \n",
       "www_likes_received     0.295687        0.947990      0.190173   \n",
       "\n",
       "                       mobile_likes_received  www_likes  www_likes_received  \n",
       "userid                              0.001753   0.001828            0.001074  \n",
       "age                                -0.024248   0.015585           -0.018224  \n",
       "dob_day                             0.000497   0.009353            0.002460  \n",
       "dob_year                            0.024248  -0.015585            0.018224  \n",
       "dob_month                           0.006435   0.012136            0.006003  \n",
       "tenure                              0.023971   0.070757            0.030553  \n",
       "friend_count                        0.232701   0.229803            0.220727  \n",
       "friendships_initiated               0.173804   0.214022            0.161439  \n",
       "likes                               0.329258   0.644960            0.295687  \n",
       "likes_received                      0.973679   0.255365            0.947990  \n",
       "mobile_likes                        0.288513   0.187619            0.190173  \n",
       "mobile_likes_received               1.000000   0.209997            0.850490  \n",
       "www_likes                           0.209997   1.000000            0.296053  \n",
       "www_likes_received                  0.850490   0.296053            1.000000  "
      ]
     },
     "execution_count": 18,
     "metadata": {},
     "output_type": "execute_result"
    }
   ],
   "source": [
    "df.corr().T"
   ]
  },
  {
   "cell_type": "markdown",
   "metadata": {},
   "source": [
    "# CORRELATION MATRIX FOR ALL THE COLUMNS"
   ]
  },
  {
   "cell_type": "code",
   "execution_count": 19,
   "metadata": {},
   "outputs": [
    {
     "data": {
      "image/png": "[encoded data removed]",
      "text/plain": [
       "<Figure size 720x576 with 2 Axes>"
      ]
     },
     "metadata": {
      "needs_background": "light"
     },
     "output_type": "display_data"
    }
   ],
   "source": [
    "plt.figure(figsize=(10,8))\n",
    "sns.heatmap(df.corr())\n",
    "plt.show()"
   ]
  },
  {
   "cell_type": "markdown",
   "metadata": {},
   "source": [
    "# ANALYSIS BASED ON THE GENDER\n"
   ]
  },
  {
   "cell_type": "code",
   "execution_count": 20,
   "metadata": {},
   "outputs": [],
   "source": [
    "#The composition of the Male and female users"
   ]
  },
  {
   "cell_type": "code",
   "execution_count": 21,
   "metadata": {},
   "outputs": [
    {
     "name": "stderr",
     "output_type": "stream",
     "text": [
      "C:\\Users\\GUDA\\anaconda3\\lib\\site-packages\\seaborn\\_decorators.py:36: FutureWarning: Pass the following variable as a keyword arg: x. From version 0.12, the only valid positional argument will be `data`, and passing other arguments without an explicit keyword will result in an error or misinterpretation.\n",
      "  warnings.warn(\n"
     ]
    },
    {
     "data": {
      "image/png": "[encoded data removed]",
      "text/plain": [
       "<Figure size 720x504 with 1 Axes>"
      ]
     },
     "metadata": {
      "needs_background": "light"
     },
     "output_type": "display_data"
    }
   ],
   "source": [
    "plt.figure(figsize=(10,7))\n",
    "sns.countplot(df.gender)\n",
    "plt.title('Count of male and female')\n",
    "plt.show()"
   ]
  },
  {
   "cell_type": "code",
   "execution_count": 22,
   "metadata": {},
   "outputs": [
    {
     "data": {
      "text/plain": [
       "male      59.340626\n",
       "female    40.659374\n",
       "Name: gender, dtype: float64"
      ]
     },
     "execution_count": 22,
     "metadata": {},
     "output_type": "execute_result"
    }
   ],
   "source": [
    "df.gender.value_counts()/df.gender.value_counts().sum()*100"
   ]
  },
  {
   "cell_type": "code",
   "execution_count": 23,
   "metadata": {
    "scrolled": false
   },
   "outputs": [
    {
     "data": {
      "image/png": "[encoded data removed]",
      "text/plain": [
       "<Figure size 720x432 with 1 Axes>"
      ]
     },
     "metadata": {},
     "output_type": "display_data"
    }
   ],
   "source": [
    "legend=['Male','Female']\n",
    "plt.figure(figsize=(10,6))\n",
    "plt.pie(df.gender.value_counts()/df.gender.value_counts().sum()*100,labels=legend,autopct='%1.1f%%',shadow=True)\n",
    "plt.title('COMPOSTION OF MALE AND FEMALE')\n",
    "plt.show()"
   ]
  },
  {
   "cell_type": "code",
   "execution_count": 24,
   "metadata": {},
   "outputs": [],
   "source": [
    "#Male use facebook more than female"
   ]
  },
  {
   "cell_type": "code",
   "execution_count": 25,
   "metadata": {},
   "outputs": [
    {
     "data": {
      "text/plain": [
       "4917"
      ]
     },
     "execution_count": 25,
     "metadata": {},
     "output_type": "execute_result"
    }
   ],
   "source": [
    "df[df['gender']=='male'].friend_count.max()"
   ]
  },
  {
   "cell_type": "code",
   "execution_count": 26,
   "metadata": {},
   "outputs": [
    {
     "data": {
      "text/plain": [
       "9699059"
      ]
     },
     "execution_count": 26,
     "metadata": {},
     "output_type": "execute_result"
    }
   ],
   "source": [
    "df[df['gender']=='male'].friend_count.sum()"
   ]
  },
  {
   "cell_type": "code",
   "execution_count": 27,
   "metadata": {},
   "outputs": [
    {
     "data": {
      "text/plain": [
       "4923"
      ]
     },
     "execution_count": 27,
     "metadata": {},
     "output_type": "execute_result"
    }
   ],
   "source": [
    "df[df['gender']=='female'].friend_count.max()"
   ]
  },
  {
   "cell_type": "code",
   "execution_count": 28,
   "metadata": {},
   "outputs": [
    {
     "data": {
      "text/plain": [
       "9740258"
      ]
     },
     "execution_count": 28,
     "metadata": {},
     "output_type": "execute_result"
    }
   ],
   "source": [
    "df[df['gender']=='female'].friend_count.sum()"
   ]
  },
  {
   "cell_type": "code",
   "execution_count": 29,
   "metadata": {},
   "outputs": [],
   "source": [
    "#there is slight diffrence between the male and female  its negligabe and in reality female users has more friends when it\n",
    "#compare to male"
   ]
  },
  {
   "cell_type": "code",
   "execution_count": 30,
   "metadata": {},
   "outputs": [],
   "source": [
    "##Category of gender intiate#d more friendship"
   ]
  },
  {
   "cell_type": "code",
   "execution_count": 31,
   "metadata": {},
   "outputs": [
    {
     "data": {
      "text/plain": [
       "4144"
      ]
     },
     "execution_count": 31,
     "metadata": {},
     "output_type": "execute_result"
    }
   ],
   "source": [
    "df[df['gender']=='male'].friendships_initiated.max()"
   ]
  },
  {
   "cell_type": "code",
   "execution_count": 32,
   "metadata": {},
   "outputs": [
    {
     "data": {
      "text/plain": [
       "6053223"
      ]
     },
     "execution_count": 32,
     "metadata": {},
     "output_type": "execute_result"
    }
   ],
   "source": [
    "df[df['gender']=='male'].friendships_initiated.sum()"
   ]
  },
  {
   "cell_type": "code",
   "execution_count": 33,
   "metadata": {},
   "outputs": [
    {
     "data": {
      "text/plain": [
       "3654"
      ]
     },
     "execution_count": 33,
     "metadata": {},
     "output_type": "execute_result"
    }
   ],
   "source": [
    "df[df['gender']=='female'].friendships_initiated.max()"
   ]
  },
  {
   "cell_type": "code",
   "execution_count": 34,
   "metadata": {},
   "outputs": [
    {
     "data": {
      "text/plain": [
       "4584894"
      ]
     },
     "execution_count": 34,
     "metadata": {},
     "output_type": "execute_result"
    }
   ],
   "source": [
    "df [df['gender']=='female'].friendships_initiated.sum()"
   ]
  },
  {
   "cell_type": "code",
   "execution_count": 35,
   "metadata": {},
   "outputs": [],
   "source": [
    "#its clear that male intiated more friendship"
   ]
  },
  {
   "cell_type": "code",
   "execution_count": 36,
   "metadata": {},
   "outputs": [],
   "source": [
    "##distribution of tenure across diffrent categories of the gender"
   ]
  },
  {
   "cell_type": "code",
   "execution_count": 37,
   "metadata": {},
   "outputs": [
    {
     "name": "stderr",
     "output_type": "stream",
     "text": [
      "C:\\Users\\GUDA\\anaconda3\\lib\\site-packages\\seaborn\\distributions.py:2551: FutureWarning: `distplot` is a deprecated function and will be removed in a future version. Please adapt your code to use either `displot` (a figure-level function with similar flexibility) or `histplot` (an axes-level function for histograms).\n",
      "  warnings.warn(msg, FutureWarning)\n"
     ]
    },
    {
     "data": {
      "image/png": "[encoded data removed]",
      "text/plain": [
       "<Figure size 720x504 with 1 Axes>"
      ]
     },
     "metadata": {
      "needs_background": "light"
     },
     "output_type": "display_data"
    },
    {
     "name": "stdout",
     "output_type": "stream",
     "text": [
      "Median 394.0\n",
      "Mean 504.08069924594463\n"
     ]
    }
   ],
   "source": [
    "plt.figure(figsize=(10,7))\n",
    "sns.distplot(df[df['gender']=='male'].tenure)\n",
    "plt.title('DISTRIBUTION OF MALE TENURE')\n",
    "plt.show()\n",
    "print('Median',df[df['gender']=='male'].tenure.median())\n",
    "print('Mean',df[df['gender']=='male'].tenure.mean())"
   ]
  },
  {
   "cell_type": "code",
   "execution_count": 38,
   "metadata": {},
   "outputs": [],
   "source": [
    "#data is right skewed there are some outliers in the tenure "
   ]
  },
  {
   "cell_type": "code",
   "execution_count": 39,
   "metadata": {},
   "outputs": [
    {
     "name": "stderr",
     "output_type": "stream",
     "text": [
      "C:\\Users\\GUDA\\anaconda3\\lib\\site-packages\\seaborn\\distributions.py:2551: FutureWarning: `distplot` is a deprecated function and will be removed in a future version. Please adapt your code to use either `displot` (a figure-level function with similar flexibility) or `histplot` (an axes-level function for histograms).\n",
      "  warnings.warn(msg, FutureWarning)\n"
     ]
    },
    {
     "data": {
      "image/png": "[encoded data removed]",
      "text/plain": [
       "<Figure size 720x504 with 1 Axes>"
      ]
     },
     "metadata": {
      "needs_background": "light"
     },
     "output_type": "display_data"
    },
    {
     "name": "stdout",
     "output_type": "stream",
     "text": [
      "Medain 438.0\n",
      "Mean 587.2205246683559\n"
     ]
    }
   ],
   "source": [
    "plt.figure(figsize=(10,7))\n",
    "sns.distplot(df[df['gender']=='female'].tenure)\n",
    "plt.title('Distribution of female tenure')\n",
    "plt.show()\n",
    "print('Medain',df[df['gender']=='female'].tenure.median())\n",
    "print('Mean',df[df['gender']=='female'].tenure.mean())"
   ]
  },
  {
   "cell_type": "code",
   "execution_count": 40,
   "metadata": {},
   "outputs": [],
   "source": [
    "#The data is right skewed outlers effect the data "
   ]
  },
  {
   "cell_type": "markdown",
   "metadata": {},
   "source": [
    "# ANALYSIS BASED ON LEASET ACTIVE USERS"
   ]
  },
  {
   "cell_type": "code",
   "execution_count": 41,
   "metadata": {},
   "outputs": [
    {
     "data": {
      "text/html": [
       "<div>\n",
       "<style scoped>\n",
       "    .dataframe tbody tr th:only-of-type {\n",
       "        vertical-align: middle;\n",
       "    }\n",
       "\n",
       "    .dataframe tbody tr th {\n",
       "        vertical-align: top;\n",
       "    }\n",
       "\n",
       "    .dataframe thead th {\n",
       "        text-align: right;\n",
       "    }\n",
       "</style>\n",
       "<table border=\"1\" class=\"dataframe\">\n",
       "  <thead>\n",
       "    <tr style=\"text-align: right;\">\n",
       "      <th></th>\n",
       "      <th>userid</th>\n",
       "      <th>age</th>\n",
       "      <th>dob_day</th>\n",
       "      <th>dob_year</th>\n",
       "      <th>dob_month</th>\n",
       "      <th>gender</th>\n",
       "      <th>tenure</th>\n",
       "      <th>friend_count</th>\n",
       "      <th>friendships_initiated</th>\n",
       "      <th>likes</th>\n",
       "      <th>likes_received</th>\n",
       "      <th>mobile_likes</th>\n",
       "      <th>mobile_likes_received</th>\n",
       "      <th>www_likes</th>\n",
       "      <th>www_likes_received</th>\n",
       "    </tr>\n",
       "  </thead>\n",
       "  <tbody>\n",
       "    <tr>\n",
       "      <th>0</th>\n",
       "      <td>2094382</td>\n",
       "      <td>14</td>\n",
       "      <td>19</td>\n",
       "      <td>1999</td>\n",
       "      <td>11</td>\n",
       "      <td>male</td>\n",
       "      <td>266.0</td>\n",
       "      <td>0</td>\n",
       "      <td>0</td>\n",
       "      <td>0</td>\n",
       "      <td>0</td>\n",
       "      <td>0</td>\n",
       "      <td>0</td>\n",
       "      <td>0</td>\n",
       "      <td>0</td>\n",
       "    </tr>\n",
       "    <tr>\n",
       "      <th>1</th>\n",
       "      <td>1192601</td>\n",
       "      <td>14</td>\n",
       "      <td>2</td>\n",
       "      <td>1999</td>\n",
       "      <td>11</td>\n",
       "      <td>female</td>\n",
       "      <td>6.0</td>\n",
       "      <td>0</td>\n",
       "      <td>0</td>\n",
       "      <td>0</td>\n",
       "      <td>0</td>\n",
       "      <td>0</td>\n",
       "      <td>0</td>\n",
       "      <td>0</td>\n",
       "      <td>0</td>\n",
       "    </tr>\n",
       "    <tr>\n",
       "      <th>2</th>\n",
       "      <td>2083884</td>\n",
       "      <td>14</td>\n",
       "      <td>16</td>\n",
       "      <td>1999</td>\n",
       "      <td>11</td>\n",
       "      <td>male</td>\n",
       "      <td>13.0</td>\n",
       "      <td>0</td>\n",
       "      <td>0</td>\n",
       "      <td>0</td>\n",
       "      <td>0</td>\n",
       "      <td>0</td>\n",
       "      <td>0</td>\n",
       "      <td>0</td>\n",
       "      <td>0</td>\n",
       "    </tr>\n",
       "    <tr>\n",
       "      <th>3</th>\n",
       "      <td>1203168</td>\n",
       "      <td>14</td>\n",
       "      <td>25</td>\n",
       "      <td>1999</td>\n",
       "      <td>12</td>\n",
       "      <td>female</td>\n",
       "      <td>93.0</td>\n",
       "      <td>0</td>\n",
       "      <td>0</td>\n",
       "      <td>0</td>\n",
       "      <td>0</td>\n",
       "      <td>0</td>\n",
       "      <td>0</td>\n",
       "      <td>0</td>\n",
       "      <td>0</td>\n",
       "    </tr>\n",
       "    <tr>\n",
       "      <th>4</th>\n",
       "      <td>1733186</td>\n",
       "      <td>14</td>\n",
       "      <td>4</td>\n",
       "      <td>1999</td>\n",
       "      <td>12</td>\n",
       "      <td>male</td>\n",
       "      <td>82.0</td>\n",
       "      <td>0</td>\n",
       "      <td>0</td>\n",
       "      <td>0</td>\n",
       "      <td>0</td>\n",
       "      <td>0</td>\n",
       "      <td>0</td>\n",
       "      <td>0</td>\n",
       "      <td>0</td>\n",
       "    </tr>\n",
       "    <tr>\n",
       "      <th>...</th>\n",
       "      <td>...</td>\n",
       "      <td>...</td>\n",
       "      <td>...</td>\n",
       "      <td>...</td>\n",
       "      <td>...</td>\n",
       "      <td>...</td>\n",
       "      <td>...</td>\n",
       "      <td>...</td>\n",
       "      <td>...</td>\n",
       "      <td>...</td>\n",
       "      <td>...</td>\n",
       "      <td>...</td>\n",
       "      <td>...</td>\n",
       "      <td>...</td>\n",
       "      <td>...</td>\n",
       "    </tr>\n",
       "    <tr>\n",
       "      <th>1957</th>\n",
       "      <td>1395843</td>\n",
       "      <td>90</td>\n",
       "      <td>4</td>\n",
       "      <td>1923</td>\n",
       "      <td>7</td>\n",
       "      <td>male</td>\n",
       "      <td>0.0</td>\n",
       "      <td>0</td>\n",
       "      <td>0</td>\n",
       "      <td>95</td>\n",
       "      <td>78</td>\n",
       "      <td>95</td>\n",
       "      <td>56</td>\n",
       "      <td>0</td>\n",
       "      <td>22</td>\n",
       "    </tr>\n",
       "    <tr>\n",
       "      <th>1958</th>\n",
       "      <td>1306409</td>\n",
       "      <td>23</td>\n",
       "      <td>24</td>\n",
       "      <td>1990</td>\n",
       "      <td>1</td>\n",
       "      <td>male</td>\n",
       "      <td>48.0</td>\n",
       "      <td>0</td>\n",
       "      <td>0</td>\n",
       "      <td>164</td>\n",
       "      <td>0</td>\n",
       "      <td>164</td>\n",
       "      <td>0</td>\n",
       "      <td>0</td>\n",
       "      <td>0</td>\n",
       "    </tr>\n",
       "    <tr>\n",
       "      <th>1959</th>\n",
       "      <td>1838179</td>\n",
       "      <td>18</td>\n",
       "      <td>29</td>\n",
       "      <td>1995</td>\n",
       "      <td>10</td>\n",
       "      <td>female</td>\n",
       "      <td>0.0</td>\n",
       "      <td>0</td>\n",
       "      <td>0</td>\n",
       "      <td>246</td>\n",
       "      <td>100</td>\n",
       "      <td>0</td>\n",
       "      <td>9</td>\n",
       "      <td>246</td>\n",
       "      <td>91</td>\n",
       "    </tr>\n",
       "    <tr>\n",
       "      <th>1960</th>\n",
       "      <td>1594192</td>\n",
       "      <td>63</td>\n",
       "      <td>1</td>\n",
       "      <td>1950</td>\n",
       "      <td>1</td>\n",
       "      <td>female</td>\n",
       "      <td>57.0</td>\n",
       "      <td>0</td>\n",
       "      <td>0</td>\n",
       "      <td>271</td>\n",
       "      <td>1</td>\n",
       "      <td>271</td>\n",
       "      <td>0</td>\n",
       "      <td>0</td>\n",
       "      <td>1</td>\n",
       "    </tr>\n",
       "    <tr>\n",
       "      <th>1961</th>\n",
       "      <td>1609579</td>\n",
       "      <td>20</td>\n",
       "      <td>23</td>\n",
       "      <td>1993</td>\n",
       "      <td>1</td>\n",
       "      <td>female</td>\n",
       "      <td>257.0</td>\n",
       "      <td>0</td>\n",
       "      <td>0</td>\n",
       "      <td>848</td>\n",
       "      <td>1</td>\n",
       "      <td>848</td>\n",
       "      <td>0</td>\n",
       "      <td>0</td>\n",
       "      <td>1</td>\n",
       "    </tr>\n",
       "  </tbody>\n",
       "</table>\n",
       "<p>1962 rows × 15 columns</p>\n",
       "</div>"
      ],
      "text/plain": [
       "       userid  age  dob_day  dob_year  dob_month  gender  tenure  \\\n",
       "0     2094382   14       19      1999         11    male   266.0   \n",
       "1     1192601   14        2      1999         11  female     6.0   \n",
       "2     2083884   14       16      1999         11    male    13.0   \n",
       "3     1203168   14       25      1999         12  female    93.0   \n",
       "4     1733186   14        4      1999         12    male    82.0   \n",
       "...       ...  ...      ...       ...        ...     ...     ...   \n",
       "1957  1395843   90        4      1923          7    male     0.0   \n",
       "1958  1306409   23       24      1990          1    male    48.0   \n",
       "1959  1838179   18       29      1995         10  female     0.0   \n",
       "1960  1594192   63        1      1950          1  female    57.0   \n",
       "1961  1609579   20       23      1993          1  female   257.0   \n",
       "\n",
       "      friend_count  friendships_initiated  likes  likes_received  \\\n",
       "0                0                      0      0               0   \n",
       "1                0                      0      0               0   \n",
       "2                0                      0      0               0   \n",
       "3                0                      0      0               0   \n",
       "4                0                      0      0               0   \n",
       "...            ...                    ...    ...             ...   \n",
       "1957             0                      0     95              78   \n",
       "1958             0                      0    164               0   \n",
       "1959             0                      0    246             100   \n",
       "1960             0                      0    271               1   \n",
       "1961             0                      0    848               1   \n",
       "\n",
       "      mobile_likes  mobile_likes_received  www_likes  www_likes_received  \n",
       "0                0                      0          0                   0  \n",
       "1                0                      0          0                   0  \n",
       "2                0                      0          0                   0  \n",
       "3                0                      0          0                   0  \n",
       "4                0                      0          0                   0  \n",
       "...            ...                    ...        ...                 ...  \n",
       "1957            95                     56          0                  22  \n",
       "1958           164                      0          0                   0  \n",
       "1959             0                      9        246                  91  \n",
       "1960           271                      0          0                   1  \n",
       "1961           848                      0          0                   1  \n",
       "\n",
       "[1962 rows x 15 columns]"
      ]
     },
     "execution_count": 41,
     "metadata": {},
     "output_type": "execute_result"
    }
   ],
   "source": [
    "#users with no friends \n",
    "df[df['friend_count']==0]"
   ]
  },
  {
   "cell_type": "code",
   "execution_count": 42,
   "metadata": {},
   "outputs": [
    {
     "data": {
      "text/plain": [
       "1962"
      ]
     },
     "execution_count": 42,
     "metadata": {},
     "output_type": "execute_result"
    }
   ],
   "source": [
    "df[df['friend_count']==0].userid.count()"
   ]
  },
  {
   "cell_type": "code",
   "execution_count": 43,
   "metadata": {},
   "outputs": [
    {
     "data": {
      "text/html": [
       "<div>\n",
       "<style scoped>\n",
       "    .dataframe tbody tr th:only-of-type {\n",
       "        vertical-align: middle;\n",
       "    }\n",
       "\n",
       "    .dataframe tbody tr th {\n",
       "        vertical-align: top;\n",
       "    }\n",
       "\n",
       "    .dataframe thead th {\n",
       "        text-align: right;\n",
       "    }\n",
       "</style>\n",
       "<table border=\"1\" class=\"dataframe\">\n",
       "  <thead>\n",
       "    <tr style=\"text-align: right;\">\n",
       "      <th></th>\n",
       "      <th>userid</th>\n",
       "      <th>age</th>\n",
       "      <th>dob_day</th>\n",
       "      <th>dob_year</th>\n",
       "      <th>dob_month</th>\n",
       "      <th>gender</th>\n",
       "      <th>tenure</th>\n",
       "      <th>friend_count</th>\n",
       "      <th>friendships_initiated</th>\n",
       "      <th>likes</th>\n",
       "      <th>likes_received</th>\n",
       "      <th>mobile_likes</th>\n",
       "      <th>mobile_likes_received</th>\n",
       "      <th>www_likes</th>\n",
       "      <th>www_likes_received</th>\n",
       "    </tr>\n",
       "  </thead>\n",
       "  <tbody>\n",
       "    <tr>\n",
       "      <th>0</th>\n",
       "      <td>2094382</td>\n",
       "      <td>14</td>\n",
       "      <td>19</td>\n",
       "      <td>1999</td>\n",
       "      <td>11</td>\n",
       "      <td>male</td>\n",
       "      <td>266.0</td>\n",
       "      <td>0</td>\n",
       "      <td>0</td>\n",
       "      <td>0</td>\n",
       "      <td>0</td>\n",
       "      <td>0</td>\n",
       "      <td>0</td>\n",
       "      <td>0</td>\n",
       "      <td>0</td>\n",
       "    </tr>\n",
       "    <tr>\n",
       "      <th>1</th>\n",
       "      <td>1192601</td>\n",
       "      <td>14</td>\n",
       "      <td>2</td>\n",
       "      <td>1999</td>\n",
       "      <td>11</td>\n",
       "      <td>female</td>\n",
       "      <td>6.0</td>\n",
       "      <td>0</td>\n",
       "      <td>0</td>\n",
       "      <td>0</td>\n",
       "      <td>0</td>\n",
       "      <td>0</td>\n",
       "      <td>0</td>\n",
       "      <td>0</td>\n",
       "      <td>0</td>\n",
       "    </tr>\n",
       "    <tr>\n",
       "      <th>2</th>\n",
       "      <td>2083884</td>\n",
       "      <td>14</td>\n",
       "      <td>16</td>\n",
       "      <td>1999</td>\n",
       "      <td>11</td>\n",
       "      <td>male</td>\n",
       "      <td>13.0</td>\n",
       "      <td>0</td>\n",
       "      <td>0</td>\n",
       "      <td>0</td>\n",
       "      <td>0</td>\n",
       "      <td>0</td>\n",
       "      <td>0</td>\n",
       "      <td>0</td>\n",
       "      <td>0</td>\n",
       "    </tr>\n",
       "    <tr>\n",
       "      <th>3</th>\n",
       "      <td>1203168</td>\n",
       "      <td>14</td>\n",
       "      <td>25</td>\n",
       "      <td>1999</td>\n",
       "      <td>12</td>\n",
       "      <td>female</td>\n",
       "      <td>93.0</td>\n",
       "      <td>0</td>\n",
       "      <td>0</td>\n",
       "      <td>0</td>\n",
       "      <td>0</td>\n",
       "      <td>0</td>\n",
       "      <td>0</td>\n",
       "      <td>0</td>\n",
       "      <td>0</td>\n",
       "    </tr>\n",
       "    <tr>\n",
       "      <th>4</th>\n",
       "      <td>1733186</td>\n",
       "      <td>14</td>\n",
       "      <td>4</td>\n",
       "      <td>1999</td>\n",
       "      <td>12</td>\n",
       "      <td>male</td>\n",
       "      <td>82.0</td>\n",
       "      <td>0</td>\n",
       "      <td>0</td>\n",
       "      <td>0</td>\n",
       "      <td>0</td>\n",
       "      <td>0</td>\n",
       "      <td>0</td>\n",
       "      <td>0</td>\n",
       "      <td>0</td>\n",
       "    </tr>\n",
       "    <tr>\n",
       "      <th>...</th>\n",
       "      <td>...</td>\n",
       "      <td>...</td>\n",
       "      <td>...</td>\n",
       "      <td>...</td>\n",
       "      <td>...</td>\n",
       "      <td>...</td>\n",
       "      <td>...</td>\n",
       "      <td>...</td>\n",
       "      <td>...</td>\n",
       "      <td>...</td>\n",
       "      <td>...</td>\n",
       "      <td>...</td>\n",
       "      <td>...</td>\n",
       "      <td>...</td>\n",
       "      <td>...</td>\n",
       "    </tr>\n",
       "    <tr>\n",
       "      <th>98029</th>\n",
       "      <td>1792910</td>\n",
       "      <td>86</td>\n",
       "      <td>6</td>\n",
       "      <td>1927</td>\n",
       "      <td>9</td>\n",
       "      <td>male</td>\n",
       "      <td>610.0</td>\n",
       "      <td>4759</td>\n",
       "      <td>994</td>\n",
       "      <td>0</td>\n",
       "      <td>8</td>\n",
       "      <td>0</td>\n",
       "      <td>7</td>\n",
       "      <td>0</td>\n",
       "      <td>1</td>\n",
       "    </tr>\n",
       "    <tr>\n",
       "      <th>98030</th>\n",
       "      <td>1267270</td>\n",
       "      <td>98</td>\n",
       "      <td>29</td>\n",
       "      <td>1915</td>\n",
       "      <td>12</td>\n",
       "      <td>female</td>\n",
       "      <td>1293.0</td>\n",
       "      <td>3483</td>\n",
       "      <td>386</td>\n",
       "      <td>0</td>\n",
       "      <td>8</td>\n",
       "      <td>0</td>\n",
       "      <td>5</td>\n",
       "      <td>0</td>\n",
       "      <td>3</td>\n",
       "    </tr>\n",
       "    <tr>\n",
       "      <th>98031</th>\n",
       "      <td>1978609</td>\n",
       "      <td>103</td>\n",
       "      <td>4</td>\n",
       "      <td>1910</td>\n",
       "      <td>3</td>\n",
       "      <td>female</td>\n",
       "      <td>636.0</td>\n",
       "      <td>2129</td>\n",
       "      <td>640</td>\n",
       "      <td>0</td>\n",
       "      <td>2</td>\n",
       "      <td>0</td>\n",
       "      <td>2</td>\n",
       "      <td>0</td>\n",
       "      <td>0</td>\n",
       "    </tr>\n",
       "    <tr>\n",
       "      <th>98032</th>\n",
       "      <td>1130147</td>\n",
       "      <td>103</td>\n",
       "      <td>1</td>\n",
       "      <td>1910</td>\n",
       "      <td>4</td>\n",
       "      <td>male</td>\n",
       "      <td>1210.0</td>\n",
       "      <td>1965</td>\n",
       "      <td>856</td>\n",
       "      <td>0</td>\n",
       "      <td>4</td>\n",
       "      <td>0</td>\n",
       "      <td>2</td>\n",
       "      <td>0</td>\n",
       "      <td>2</td>\n",
       "    </tr>\n",
       "    <tr>\n",
       "      <th>98033</th>\n",
       "      <td>1494340</td>\n",
       "      <td>103</td>\n",
       "      <td>22</td>\n",
       "      <td>1910</td>\n",
       "      <td>8</td>\n",
       "      <td>female</td>\n",
       "      <td>677.0</td>\n",
       "      <td>4075</td>\n",
       "      <td>611</td>\n",
       "      <td>0</td>\n",
       "      <td>7</td>\n",
       "      <td>0</td>\n",
       "      <td>5</td>\n",
       "      <td>0</td>\n",
       "      <td>2</td>\n",
       "    </tr>\n",
       "  </tbody>\n",
       "</table>\n",
       "<p>22308 rows × 15 columns</p>\n",
       "</div>"
      ],
      "text/plain": [
       "        userid  age  dob_day  dob_year  dob_month  gender  tenure  \\\n",
       "0      2094382   14       19      1999         11    male   266.0   \n",
       "1      1192601   14        2      1999         11  female     6.0   \n",
       "2      2083884   14       16      1999         11    male    13.0   \n",
       "3      1203168   14       25      1999         12  female    93.0   \n",
       "4      1733186   14        4      1999         12    male    82.0   \n",
       "...        ...  ...      ...       ...        ...     ...     ...   \n",
       "98029  1792910   86        6      1927          9    male   610.0   \n",
       "98030  1267270   98       29      1915         12  female  1293.0   \n",
       "98031  1978609  103        4      1910          3  female   636.0   \n",
       "98032  1130147  103        1      1910          4    male  1210.0   \n",
       "98033  1494340  103       22      1910          8  female   677.0   \n",
       "\n",
       "       friend_count  friendships_initiated  likes  likes_received  \\\n",
       "0                 0                      0      0               0   \n",
       "1                 0                      0      0               0   \n",
       "2                 0                      0      0               0   \n",
       "3                 0                      0      0               0   \n",
       "4                 0                      0      0               0   \n",
       "...             ...                    ...    ...             ...   \n",
       "98029          4759                    994      0               8   \n",
       "98030          3483                    386      0               8   \n",
       "98031          2129                    640      0               2   \n",
       "98032          1965                    856      0               4   \n",
       "98033          4075                    611      0               7   \n",
       "\n",
       "       mobile_likes  mobile_likes_received  www_likes  www_likes_received  \n",
       "0                 0                      0          0                   0  \n",
       "1                 0                      0          0                   0  \n",
       "2                 0                      0          0                   0  \n",
       "3                 0                      0          0                   0  \n",
       "4                 0                      0          0                   0  \n",
       "...             ...                    ...        ...                 ...  \n",
       "98029             0                      7          0                   1  \n",
       "98030             0                      5          0                   3  \n",
       "98031             0                      2          0                   0  \n",
       "98032             0                      2          0                   2  \n",
       "98033             0                      5          0                   2  \n",
       "\n",
       "[22308 rows x 15 columns]"
      ]
     },
     "execution_count": 43,
     "metadata": {},
     "output_type": "execute_result"
    }
   ],
   "source": [
    "#Users who didnt like any post \n",
    "df[df['likes']==0]"
   ]
  },
  {
   "cell_type": "code",
   "execution_count": 44,
   "metadata": {},
   "outputs": [
    {
     "data": {
      "text/plain": [
       "22308"
      ]
     },
     "execution_count": 44,
     "metadata": {},
     "output_type": "execute_result"
    }
   ],
   "source": [
    "df[df['likes']==0].userid.count()"
   ]
  },
  {
   "cell_type": "code",
   "execution_count": 45,
   "metadata": {},
   "outputs": [],
   "source": [
    "# users who recieved zero likes "
   ]
  },
  {
   "cell_type": "code",
   "execution_count": 46,
   "metadata": {},
   "outputs": [
    {
     "data": {
      "text/html": [
       "<div>\n",
       "<style scoped>\n",
       "    .dataframe tbody tr th:only-of-type {\n",
       "        vertical-align: middle;\n",
       "    }\n",
       "\n",
       "    .dataframe tbody tr th {\n",
       "        vertical-align: top;\n",
       "    }\n",
       "\n",
       "    .dataframe thead th {\n",
       "        text-align: right;\n",
       "    }\n",
       "</style>\n",
       "<table border=\"1\" class=\"dataframe\">\n",
       "  <thead>\n",
       "    <tr style=\"text-align: right;\">\n",
       "      <th></th>\n",
       "      <th>userid</th>\n",
       "      <th>age</th>\n",
       "      <th>dob_day</th>\n",
       "      <th>dob_year</th>\n",
       "      <th>dob_month</th>\n",
       "      <th>gender</th>\n",
       "      <th>tenure</th>\n",
       "      <th>friend_count</th>\n",
       "      <th>friendships_initiated</th>\n",
       "      <th>likes</th>\n",
       "      <th>likes_received</th>\n",
       "      <th>mobile_likes</th>\n",
       "      <th>mobile_likes_received</th>\n",
       "      <th>www_likes</th>\n",
       "      <th>www_likes_received</th>\n",
       "    </tr>\n",
       "  </thead>\n",
       "  <tbody>\n",
       "    <tr>\n",
       "      <th>0</th>\n",
       "      <td>2094382</td>\n",
       "      <td>14</td>\n",
       "      <td>19</td>\n",
       "      <td>1999</td>\n",
       "      <td>11</td>\n",
       "      <td>male</td>\n",
       "      <td>266.0</td>\n",
       "      <td>0</td>\n",
       "      <td>0</td>\n",
       "      <td>0</td>\n",
       "      <td>0</td>\n",
       "      <td>0</td>\n",
       "      <td>0</td>\n",
       "      <td>0</td>\n",
       "      <td>0</td>\n",
       "    </tr>\n",
       "    <tr>\n",
       "      <th>1</th>\n",
       "      <td>1192601</td>\n",
       "      <td>14</td>\n",
       "      <td>2</td>\n",
       "      <td>1999</td>\n",
       "      <td>11</td>\n",
       "      <td>female</td>\n",
       "      <td>6.0</td>\n",
       "      <td>0</td>\n",
       "      <td>0</td>\n",
       "      <td>0</td>\n",
       "      <td>0</td>\n",
       "      <td>0</td>\n",
       "      <td>0</td>\n",
       "      <td>0</td>\n",
       "      <td>0</td>\n",
       "    </tr>\n",
       "    <tr>\n",
       "      <th>2</th>\n",
       "      <td>2083884</td>\n",
       "      <td>14</td>\n",
       "      <td>16</td>\n",
       "      <td>1999</td>\n",
       "      <td>11</td>\n",
       "      <td>male</td>\n",
       "      <td>13.0</td>\n",
       "      <td>0</td>\n",
       "      <td>0</td>\n",
       "      <td>0</td>\n",
       "      <td>0</td>\n",
       "      <td>0</td>\n",
       "      <td>0</td>\n",
       "      <td>0</td>\n",
       "      <td>0</td>\n",
       "    </tr>\n",
       "    <tr>\n",
       "      <th>3</th>\n",
       "      <td>1203168</td>\n",
       "      <td>14</td>\n",
       "      <td>25</td>\n",
       "      <td>1999</td>\n",
       "      <td>12</td>\n",
       "      <td>female</td>\n",
       "      <td>93.0</td>\n",
       "      <td>0</td>\n",
       "      <td>0</td>\n",
       "      <td>0</td>\n",
       "      <td>0</td>\n",
       "      <td>0</td>\n",
       "      <td>0</td>\n",
       "      <td>0</td>\n",
       "      <td>0</td>\n",
       "    </tr>\n",
       "    <tr>\n",
       "      <th>4</th>\n",
       "      <td>1733186</td>\n",
       "      <td>14</td>\n",
       "      <td>4</td>\n",
       "      <td>1999</td>\n",
       "      <td>12</td>\n",
       "      <td>male</td>\n",
       "      <td>82.0</td>\n",
       "      <td>0</td>\n",
       "      <td>0</td>\n",
       "      <td>0</td>\n",
       "      <td>0</td>\n",
       "      <td>0</td>\n",
       "      <td>0</td>\n",
       "      <td>0</td>\n",
       "      <td>0</td>\n",
       "    </tr>\n",
       "    <tr>\n",
       "      <th>...</th>\n",
       "      <td>...</td>\n",
       "      <td>...</td>\n",
       "      <td>...</td>\n",
       "      <td>...</td>\n",
       "      <td>...</td>\n",
       "      <td>...</td>\n",
       "      <td>...</td>\n",
       "      <td>...</td>\n",
       "      <td>...</td>\n",
       "      <td>...</td>\n",
       "      <td>...</td>\n",
       "      <td>...</td>\n",
       "      <td>...</td>\n",
       "      <td>...</td>\n",
       "      <td>...</td>\n",
       "    </tr>\n",
       "    <tr>\n",
       "      <th>98005</th>\n",
       "      <td>1883270</td>\n",
       "      <td>18</td>\n",
       "      <td>14</td>\n",
       "      <td>1995</td>\n",
       "      <td>11</td>\n",
       "      <td>female</td>\n",
       "      <td>341.0</td>\n",
       "      <td>2050</td>\n",
       "      <td>467</td>\n",
       "      <td>0</td>\n",
       "      <td>0</td>\n",
       "      <td>0</td>\n",
       "      <td>0</td>\n",
       "      <td>0</td>\n",
       "      <td>0</td>\n",
       "    </tr>\n",
       "    <tr>\n",
       "      <th>98016</th>\n",
       "      <td>1993020</td>\n",
       "      <td>21</td>\n",
       "      <td>8</td>\n",
       "      <td>1992</td>\n",
       "      <td>1</td>\n",
       "      <td>male</td>\n",
       "      <td>1262.0</td>\n",
       "      <td>1954</td>\n",
       "      <td>1050</td>\n",
       "      <td>0</td>\n",
       "      <td>0</td>\n",
       "      <td>0</td>\n",
       "      <td>0</td>\n",
       "      <td>0</td>\n",
       "      <td>0</td>\n",
       "    </tr>\n",
       "    <tr>\n",
       "      <th>98061</th>\n",
       "      <td>1680023</td>\n",
       "      <td>17</td>\n",
       "      <td>13</td>\n",
       "      <td>1996</td>\n",
       "      <td>10</td>\n",
       "      <td>female</td>\n",
       "      <td>736.0</td>\n",
       "      <td>2415</td>\n",
       "      <td>1795</td>\n",
       "      <td>3</td>\n",
       "      <td>0</td>\n",
       "      <td>0</td>\n",
       "      <td>0</td>\n",
       "      <td>3</td>\n",
       "      <td>0</td>\n",
       "    </tr>\n",
       "    <tr>\n",
       "      <th>98081</th>\n",
       "      <td>2022131</td>\n",
       "      <td>16</td>\n",
       "      <td>14</td>\n",
       "      <td>1997</td>\n",
       "      <td>8</td>\n",
       "      <td>male</td>\n",
       "      <td>743.0</td>\n",
       "      <td>2294</td>\n",
       "      <td>1157</td>\n",
       "      <td>6</td>\n",
       "      <td>0</td>\n",
       "      <td>6</td>\n",
       "      <td>0</td>\n",
       "      <td>0</td>\n",
       "      <td>0</td>\n",
       "    </tr>\n",
       "    <tr>\n",
       "      <th>98082</th>\n",
       "      <td>1867596</td>\n",
       "      <td>41</td>\n",
       "      <td>14</td>\n",
       "      <td>1972</td>\n",
       "      <td>3</td>\n",
       "      <td>male</td>\n",
       "      <td>412.0</td>\n",
       "      <td>1936</td>\n",
       "      <td>1488</td>\n",
       "      <td>6</td>\n",
       "      <td>0</td>\n",
       "      <td>6</td>\n",
       "      <td>0</td>\n",
       "      <td>0</td>\n",
       "      <td>0</td>\n",
       "    </tr>\n",
       "  </tbody>\n",
       "</table>\n",
       "<p>24428 rows × 15 columns</p>\n",
       "</div>"
      ],
      "text/plain": [
       "        userid  age  dob_day  dob_year  dob_month  gender  tenure  \\\n",
       "0      2094382   14       19      1999         11    male   266.0   \n",
       "1      1192601   14        2      1999         11  female     6.0   \n",
       "2      2083884   14       16      1999         11    male    13.0   \n",
       "3      1203168   14       25      1999         12  female    93.0   \n",
       "4      1733186   14        4      1999         12    male    82.0   \n",
       "...        ...  ...      ...       ...        ...     ...     ...   \n",
       "98005  1883270   18       14      1995         11  female   341.0   \n",
       "98016  1993020   21        8      1992          1    male  1262.0   \n",
       "98061  1680023   17       13      1996         10  female   736.0   \n",
       "98081  2022131   16       14      1997          8    male   743.0   \n",
       "98082  1867596   41       14      1972          3    male   412.0   \n",
       "\n",
       "       friend_count  friendships_initiated  likes  likes_received  \\\n",
       "0                 0                      0      0               0   \n",
       "1                 0                      0      0               0   \n",
       "2                 0                      0      0               0   \n",
       "3                 0                      0      0               0   \n",
       "4                 0                      0      0               0   \n",
       "...             ...                    ...    ...             ...   \n",
       "98005          2050                    467      0               0   \n",
       "98016          1954                   1050      0               0   \n",
       "98061          2415                   1795      3               0   \n",
       "98081          2294                   1157      6               0   \n",
       "98082          1936                   1488      6               0   \n",
       "\n",
       "       mobile_likes  mobile_likes_received  www_likes  www_likes_received  \n",
       "0                 0                      0          0                   0  \n",
       "1                 0                      0          0                   0  \n",
       "2                 0                      0          0                   0  \n",
       "3                 0                      0          0                   0  \n",
       "4                 0                      0          0                   0  \n",
       "...             ...                    ...        ...                 ...  \n",
       "98005             0                      0          0                   0  \n",
       "98016             0                      0          0                   0  \n",
       "98061             0                      0          3                   0  \n",
       "98081             6                      0          0                   0  \n",
       "98082             6                      0          0                   0  \n",
       "\n",
       "[24428 rows x 15 columns]"
      ]
     },
     "execution_count": 46,
     "metadata": {},
     "output_type": "execute_result"
    }
   ],
   "source": [
    "df[df['likes_received']==0]"
   ]
  },
  {
   "cell_type": "code",
   "execution_count": 47,
   "metadata": {},
   "outputs": [
    {
     "data": {
      "text/plain": [
       "24428"
      ]
     },
     "execution_count": 47,
     "metadata": {},
     "output_type": "execute_result"
    }
   ],
   "source": [
    "df[df['likes_received']==0].userid.count()"
   ]
  },
  {
   "cell_type": "markdown",
   "metadata": {},
   "source": [
    "# Analysis based on the user accessibility(Mobile vs Web devices)"
   ]
  },
  {
   "cell_type": "code",
   "execution_count": 48,
   "metadata": {},
   "outputs": [
    {
     "data": {
      "text/html": [
       "<div>\n",
       "<style scoped>\n",
       "    .dataframe tbody tr th:only-of-type {\n",
       "        vertical-align: middle;\n",
       "    }\n",
       "\n",
       "    .dataframe tbody tr th {\n",
       "        vertical-align: top;\n",
       "    }\n",
       "\n",
       "    .dataframe thead th {\n",
       "        text-align: right;\n",
       "    }\n",
       "</style>\n",
       "<table border=\"1\" class=\"dataframe\">\n",
       "  <thead>\n",
       "    <tr style=\"text-align: right;\">\n",
       "      <th></th>\n",
       "      <th>userid</th>\n",
       "      <th>age</th>\n",
       "      <th>dob_day</th>\n",
       "      <th>dob_year</th>\n",
       "      <th>dob_month</th>\n",
       "      <th>gender</th>\n",
       "      <th>tenure</th>\n",
       "      <th>friend_count</th>\n",
       "      <th>friendships_initiated</th>\n",
       "      <th>likes</th>\n",
       "      <th>likes_received</th>\n",
       "      <th>mobile_likes</th>\n",
       "      <th>mobile_likes_received</th>\n",
       "      <th>www_likes</th>\n",
       "      <th>www_likes_received</th>\n",
       "    </tr>\n",
       "  </thead>\n",
       "  <tbody>\n",
       "    <tr>\n",
       "      <th>0</th>\n",
       "      <td>2094382</td>\n",
       "      <td>14</td>\n",
       "      <td>19</td>\n",
       "      <td>1999</td>\n",
       "      <td>11</td>\n",
       "      <td>male</td>\n",
       "      <td>266.0</td>\n",
       "      <td>0</td>\n",
       "      <td>0</td>\n",
       "      <td>0</td>\n",
       "      <td>0</td>\n",
       "      <td>0</td>\n",
       "      <td>0</td>\n",
       "      <td>0</td>\n",
       "      <td>0</td>\n",
       "    </tr>\n",
       "    <tr>\n",
       "      <th>1</th>\n",
       "      <td>1192601</td>\n",
       "      <td>14</td>\n",
       "      <td>2</td>\n",
       "      <td>1999</td>\n",
       "      <td>11</td>\n",
       "      <td>female</td>\n",
       "      <td>6.0</td>\n",
       "      <td>0</td>\n",
       "      <td>0</td>\n",
       "      <td>0</td>\n",
       "      <td>0</td>\n",
       "      <td>0</td>\n",
       "      <td>0</td>\n",
       "      <td>0</td>\n",
       "      <td>0</td>\n",
       "    </tr>\n",
       "    <tr>\n",
       "      <th>2</th>\n",
       "      <td>2083884</td>\n",
       "      <td>14</td>\n",
       "      <td>16</td>\n",
       "      <td>1999</td>\n",
       "      <td>11</td>\n",
       "      <td>male</td>\n",
       "      <td>13.0</td>\n",
       "      <td>0</td>\n",
       "      <td>0</td>\n",
       "      <td>0</td>\n",
       "      <td>0</td>\n",
       "      <td>0</td>\n",
       "      <td>0</td>\n",
       "      <td>0</td>\n",
       "      <td>0</td>\n",
       "    </tr>\n",
       "    <tr>\n",
       "      <th>3</th>\n",
       "      <td>1203168</td>\n",
       "      <td>14</td>\n",
       "      <td>25</td>\n",
       "      <td>1999</td>\n",
       "      <td>12</td>\n",
       "      <td>female</td>\n",
       "      <td>93.0</td>\n",
       "      <td>0</td>\n",
       "      <td>0</td>\n",
       "      <td>0</td>\n",
       "      <td>0</td>\n",
       "      <td>0</td>\n",
       "      <td>0</td>\n",
       "      <td>0</td>\n",
       "      <td>0</td>\n",
       "    </tr>\n",
       "    <tr>\n",
       "      <th>4</th>\n",
       "      <td>1733186</td>\n",
       "      <td>14</td>\n",
       "      <td>4</td>\n",
       "      <td>1999</td>\n",
       "      <td>12</td>\n",
       "      <td>male</td>\n",
       "      <td>82.0</td>\n",
       "      <td>0</td>\n",
       "      <td>0</td>\n",
       "      <td>0</td>\n",
       "      <td>0</td>\n",
       "      <td>0</td>\n",
       "      <td>0</td>\n",
       "      <td>0</td>\n",
       "      <td>0</td>\n",
       "    </tr>\n",
       "    <tr>\n",
       "      <th>...</th>\n",
       "      <td>...</td>\n",
       "      <td>...</td>\n",
       "      <td>...</td>\n",
       "      <td>...</td>\n",
       "      <td>...</td>\n",
       "      <td>...</td>\n",
       "      <td>...</td>\n",
       "      <td>...</td>\n",
       "      <td>...</td>\n",
       "      <td>...</td>\n",
       "      <td>...</td>\n",
       "      <td>...</td>\n",
       "      <td>...</td>\n",
       "      <td>...</td>\n",
       "      <td>...</td>\n",
       "    </tr>\n",
       "    <tr>\n",
       "      <th>98998</th>\n",
       "      <td>1268299</td>\n",
       "      <td>68</td>\n",
       "      <td>4</td>\n",
       "      <td>1945</td>\n",
       "      <td>4</td>\n",
       "      <td>female</td>\n",
       "      <td>541.0</td>\n",
       "      <td>2118</td>\n",
       "      <td>341</td>\n",
       "      <td>3996</td>\n",
       "      <td>18089</td>\n",
       "      <td>3505</td>\n",
       "      <td>11887</td>\n",
       "      <td>491</td>\n",
       "      <td>6202</td>\n",
       "    </tr>\n",
       "    <tr>\n",
       "      <th>98999</th>\n",
       "      <td>1256153</td>\n",
       "      <td>18</td>\n",
       "      <td>12</td>\n",
       "      <td>1995</td>\n",
       "      <td>3</td>\n",
       "      <td>female</td>\n",
       "      <td>21.0</td>\n",
       "      <td>1968</td>\n",
       "      <td>1720</td>\n",
       "      <td>4401</td>\n",
       "      <td>13412</td>\n",
       "      <td>4399</td>\n",
       "      <td>10592</td>\n",
       "      <td>2</td>\n",
       "      <td>2820</td>\n",
       "    </tr>\n",
       "    <tr>\n",
       "      <th>99000</th>\n",
       "      <td>1195943</td>\n",
       "      <td>15</td>\n",
       "      <td>10</td>\n",
       "      <td>1998</td>\n",
       "      <td>5</td>\n",
       "      <td>female</td>\n",
       "      <td>111.0</td>\n",
       "      <td>2002</td>\n",
       "      <td>1524</td>\n",
       "      <td>11959</td>\n",
       "      <td>12554</td>\n",
       "      <td>11959</td>\n",
       "      <td>11462</td>\n",
       "      <td>0</td>\n",
       "      <td>1092</td>\n",
       "    </tr>\n",
       "    <tr>\n",
       "      <th>99001</th>\n",
       "      <td>1468023</td>\n",
       "      <td>23</td>\n",
       "      <td>11</td>\n",
       "      <td>1990</td>\n",
       "      <td>4</td>\n",
       "      <td>female</td>\n",
       "      <td>416.0</td>\n",
       "      <td>2560</td>\n",
       "      <td>185</td>\n",
       "      <td>4506</td>\n",
       "      <td>6516</td>\n",
       "      <td>4506</td>\n",
       "      <td>5760</td>\n",
       "      <td>0</td>\n",
       "      <td>756</td>\n",
       "    </tr>\n",
       "    <tr>\n",
       "      <th>99002</th>\n",
       "      <td>1397896</td>\n",
       "      <td>39</td>\n",
       "      <td>15</td>\n",
       "      <td>1974</td>\n",
       "      <td>5</td>\n",
       "      <td>female</td>\n",
       "      <td>397.0</td>\n",
       "      <td>2049</td>\n",
       "      <td>768</td>\n",
       "      <td>9410</td>\n",
       "      <td>12443</td>\n",
       "      <td>9410</td>\n",
       "      <td>9530</td>\n",
       "      <td>0</td>\n",
       "      <td>2913</td>\n",
       "    </tr>\n",
       "  </tbody>\n",
       "</table>\n",
       "<p>99003 rows × 15 columns</p>\n",
       "</div>"
      ],
      "text/plain": [
       "        userid  age  dob_day  dob_year  dob_month  gender  tenure  \\\n",
       "0      2094382   14       19      1999         11    male   266.0   \n",
       "1      1192601   14        2      1999         11  female     6.0   \n",
       "2      2083884   14       16      1999         11    male    13.0   \n",
       "3      1203168   14       25      1999         12  female    93.0   \n",
       "4      1733186   14        4      1999         12    male    82.0   \n",
       "...        ...  ...      ...       ...        ...     ...     ...   \n",
       "98998  1268299   68        4      1945          4  female   541.0   \n",
       "98999  1256153   18       12      1995          3  female    21.0   \n",
       "99000  1195943   15       10      1998          5  female   111.0   \n",
       "99001  1468023   23       11      1990          4  female   416.0   \n",
       "99002  1397896   39       15      1974          5  female   397.0   \n",
       "\n",
       "       friend_count  friendships_initiated  likes  likes_received  \\\n",
       "0                 0                      0      0               0   \n",
       "1                 0                      0      0               0   \n",
       "2                 0                      0      0               0   \n",
       "3                 0                      0      0               0   \n",
       "4                 0                      0      0               0   \n",
       "...             ...                    ...    ...             ...   \n",
       "98998          2118                    341   3996           18089   \n",
       "98999          1968                   1720   4401           13412   \n",
       "99000          2002                   1524  11959           12554   \n",
       "99001          2560                    185   4506            6516   \n",
       "99002          2049                    768   9410           12443   \n",
       "\n",
       "       mobile_likes  mobile_likes_received  www_likes  www_likes_received  \n",
       "0                 0                      0          0                   0  \n",
       "1                 0                      0          0                   0  \n",
       "2                 0                      0          0                   0  \n",
       "3                 0                      0          0                   0  \n",
       "4                 0                      0          0                   0  \n",
       "...             ...                    ...        ...                 ...  \n",
       "98998          3505                  11887        491                6202  \n",
       "98999          4399                  10592          2                2820  \n",
       "99000         11959                  11462          0                1092  \n",
       "99001          4506                   5760          0                 756  \n",
       "99002          9410                   9530          0                2913  \n",
       "\n",
       "[99003 rows x 15 columns]"
      ]
     },
     "execution_count": 48,
     "metadata": {},
     "output_type": "execute_result"
    }
   ],
   "source": [
    "df"
   ]
  },
  {
   "cell_type": "code",
   "execution_count": 49,
   "metadata": {},
   "outputs": [],
   "source": [
    "#average number of posts liked by the users "
   ]
  },
  {
   "cell_type": "code",
   "execution_count": 50,
   "metadata": {},
   "outputs": [
    {
     "name": "stderr",
     "output_type": "stream",
     "text": [
      "C:\\Users\\GUDA\\anaconda3\\lib\\site-packages\\seaborn\\distributions.py:2551: FutureWarning: `distplot` is a deprecated function and will be removed in a future version. Please adapt your code to use either `displot` (a figure-level function with similar flexibility) or `histplot` (an axes-level function for histograms).\n",
      "  warnings.warn(msg, FutureWarning)\n"
     ]
    },
    {
     "data": {
      "image/png": "[encoded data removed]",
      "text/plain": [
       "<Figure size 720x576 with 1 Axes>"
      ]
     },
     "metadata": {
      "needs_background": "light"
     },
     "output_type": "display_data"
    },
    {
     "name": "stdout",
     "output_type": "stream",
     "text": [
      "MEAN 60.348176139168324\n"
     ]
    }
   ],
   "source": [
    "plt.figure(figsize=(10,8))\n",
    "sns.distplot(df[df['gender']=='male'].mobile_likes)\n",
    "plt.show()\n",
    "print('MEAN',df[df['gender']=='male'].mobile_likes.mean())\n"
   ]
  },
  {
   "cell_type": "code",
   "execution_count": 51,
   "metadata": {},
   "outputs": [
    {
     "data": {
      "text/plain": [
       "60.348176139168324"
      ]
     },
     "execution_count": 51,
     "metadata": {},
     "output_type": "execute_result"
    }
   ],
   "source": [
    "df[df['gender']=='male'].mobile_likes.mean()"
   ]
  },
  {
   "cell_type": "code",
   "execution_count": 52,
   "metadata": {},
   "outputs": [
    {
     "data": {
      "text/plain": [
       "172.91292790778556"
      ]
     },
     "execution_count": 52,
     "metadata": {},
     "output_type": "execute_result"
    }
   ],
   "source": [
    "df[df['gender']=='female'].mobile_likes.mean()"
   ]
  },
  {
   "cell_type": "code",
   "execution_count": 53,
   "metadata": {},
   "outputs": [
    {
     "name": "stderr",
     "output_type": "stream",
     "text": [
      "C:\\Users\\GUDA\\anaconda3\\lib\\site-packages\\seaborn\\distributions.py:2551: FutureWarning: `distplot` is a deprecated function and will be removed in a future version. Please adapt your code to use either `displot` (a figure-level function with similar flexibility) or `histplot` (an axes-level function for histograms).\n",
      "  warnings.warn(msg, FutureWarning)\n"
     ]
    },
    {
     "data": {
      "image/png": "[encoded data removed]",
      "text/plain": [
       "<Figure size 720x576 with 1 Axes>"
      ]
     },
     "metadata": {
      "needs_background": "light"
     },
     "output_type": "display_data"
    },
    {
     "name": "stdout",
     "output_type": "stream",
     "text": [
      "MEAN 172.91292790778556\n"
     ]
    }
   ],
   "source": [
    "plt.figure(figsize=(10,8))\n",
    "sns.distplot(df[df['gender']=='female'].mobile_likes)\n",
    "plt.show()\n",
    "print('MEAN',df[df['gender']=='female'].mobile_likes.mean())"
   ]
  },
  {
   "cell_type": "code",
   "execution_count": 54,
   "metadata": {},
   "outputs": [
    {
     "data": {
      "text/plain": [
       "24.490033872916985"
      ]
     },
     "execution_count": 54,
     "metadata": {},
     "output_type": "execute_result"
    }
   ],
   "source": [
    "df[df['gender']=='male'].www_likes.mean()"
   ]
  },
  {
   "cell_type": "code",
   "execution_count": 55,
   "metadata": {},
   "outputs": [
    {
     "data": {
      "text/plain": [
       "87.13829681522333"
      ]
     },
     "execution_count": 55,
     "metadata": {},
     "output_type": "execute_result"
    }
   ],
   "source": [
    "df[df['gender']=='female'].www_likes.mean()"
   ]
  },
  {
   "cell_type": "code",
   "execution_count": 56,
   "metadata": {},
   "outputs": [],
   "source": [
    "#most people use facebook on mobile phones so most of the likes came from facebook mobile apps users and female users got more likes\n",
    "#than male users."
   ]
  },
  {
   "cell_type": "code",
   "execution_count": 57,
   "metadata": {},
   "outputs": [
    {
     "data": {
      "text/html": [
       "<div>\n",
       "<style scoped>\n",
       "    .dataframe tbody tr th:only-of-type {\n",
       "        vertical-align: middle;\n",
       "    }\n",
       "\n",
       "    .dataframe tbody tr th {\n",
       "        vertical-align: top;\n",
       "    }\n",
       "\n",
       "    .dataframe thead th {\n",
       "        text-align: right;\n",
       "    }\n",
       "</style>\n",
       "<table border=\"1\" class=\"dataframe\">\n",
       "  <thead>\n",
       "    <tr style=\"text-align: right;\">\n",
       "      <th></th>\n",
       "      <th>userid</th>\n",
       "      <th>age</th>\n",
       "      <th>dob_day</th>\n",
       "      <th>dob_year</th>\n",
       "      <th>dob_month</th>\n",
       "      <th>gender</th>\n",
       "      <th>tenure</th>\n",
       "      <th>friend_count</th>\n",
       "      <th>friendships_initiated</th>\n",
       "      <th>likes</th>\n",
       "      <th>likes_received</th>\n",
       "      <th>mobile_likes</th>\n",
       "      <th>mobile_likes_received</th>\n",
       "      <th>www_likes</th>\n",
       "      <th>www_likes_received</th>\n",
       "    </tr>\n",
       "  </thead>\n",
       "  <tbody>\n",
       "    <tr>\n",
       "      <th>0</th>\n",
       "      <td>2094382</td>\n",
       "      <td>14</td>\n",
       "      <td>19</td>\n",
       "      <td>1999</td>\n",
       "      <td>11</td>\n",
       "      <td>male</td>\n",
       "      <td>266.0</td>\n",
       "      <td>0</td>\n",
       "      <td>0</td>\n",
       "      <td>0</td>\n",
       "      <td>0</td>\n",
       "      <td>0</td>\n",
       "      <td>0</td>\n",
       "      <td>0</td>\n",
       "      <td>0</td>\n",
       "    </tr>\n",
       "    <tr>\n",
       "      <th>1</th>\n",
       "      <td>1192601</td>\n",
       "      <td>14</td>\n",
       "      <td>2</td>\n",
       "      <td>1999</td>\n",
       "      <td>11</td>\n",
       "      <td>female</td>\n",
       "      <td>6.0</td>\n",
       "      <td>0</td>\n",
       "      <td>0</td>\n",
       "      <td>0</td>\n",
       "      <td>0</td>\n",
       "      <td>0</td>\n",
       "      <td>0</td>\n",
       "      <td>0</td>\n",
       "      <td>0</td>\n",
       "    </tr>\n",
       "    <tr>\n",
       "      <th>2</th>\n",
       "      <td>2083884</td>\n",
       "      <td>14</td>\n",
       "      <td>16</td>\n",
       "      <td>1999</td>\n",
       "      <td>11</td>\n",
       "      <td>male</td>\n",
       "      <td>13.0</td>\n",
       "      <td>0</td>\n",
       "      <td>0</td>\n",
       "      <td>0</td>\n",
       "      <td>0</td>\n",
       "      <td>0</td>\n",
       "      <td>0</td>\n",
       "      <td>0</td>\n",
       "      <td>0</td>\n",
       "    </tr>\n",
       "    <tr>\n",
       "      <th>3</th>\n",
       "      <td>1203168</td>\n",
       "      <td>14</td>\n",
       "      <td>25</td>\n",
       "      <td>1999</td>\n",
       "      <td>12</td>\n",
       "      <td>female</td>\n",
       "      <td>93.0</td>\n",
       "      <td>0</td>\n",
       "      <td>0</td>\n",
       "      <td>0</td>\n",
       "      <td>0</td>\n",
       "      <td>0</td>\n",
       "      <td>0</td>\n",
       "      <td>0</td>\n",
       "      <td>0</td>\n",
       "    </tr>\n",
       "    <tr>\n",
       "      <th>4</th>\n",
       "      <td>1733186</td>\n",
       "      <td>14</td>\n",
       "      <td>4</td>\n",
       "      <td>1999</td>\n",
       "      <td>12</td>\n",
       "      <td>male</td>\n",
       "      <td>82.0</td>\n",
       "      <td>0</td>\n",
       "      <td>0</td>\n",
       "      <td>0</td>\n",
       "      <td>0</td>\n",
       "      <td>0</td>\n",
       "      <td>0</td>\n",
       "      <td>0</td>\n",
       "      <td>0</td>\n",
       "    </tr>\n",
       "    <tr>\n",
       "      <th>...</th>\n",
       "      <td>...</td>\n",
       "      <td>...</td>\n",
       "      <td>...</td>\n",
       "      <td>...</td>\n",
       "      <td>...</td>\n",
       "      <td>...</td>\n",
       "      <td>...</td>\n",
       "      <td>...</td>\n",
       "      <td>...</td>\n",
       "      <td>...</td>\n",
       "      <td>...</td>\n",
       "      <td>...</td>\n",
       "      <td>...</td>\n",
       "      <td>...</td>\n",
       "      <td>...</td>\n",
       "    </tr>\n",
       "    <tr>\n",
       "      <th>98998</th>\n",
       "      <td>1268299</td>\n",
       "      <td>68</td>\n",
       "      <td>4</td>\n",
       "      <td>1945</td>\n",
       "      <td>4</td>\n",
       "      <td>female</td>\n",
       "      <td>541.0</td>\n",
       "      <td>2118</td>\n",
       "      <td>341</td>\n",
       "      <td>3996</td>\n",
       "      <td>18089</td>\n",
       "      <td>3505</td>\n",
       "      <td>11887</td>\n",
       "      <td>491</td>\n",
       "      <td>6202</td>\n",
       "    </tr>\n",
       "    <tr>\n",
       "      <th>98999</th>\n",
       "      <td>1256153</td>\n",
       "      <td>18</td>\n",
       "      <td>12</td>\n",
       "      <td>1995</td>\n",
       "      <td>3</td>\n",
       "      <td>female</td>\n",
       "      <td>21.0</td>\n",
       "      <td>1968</td>\n",
       "      <td>1720</td>\n",
       "      <td>4401</td>\n",
       "      <td>13412</td>\n",
       "      <td>4399</td>\n",
       "      <td>10592</td>\n",
       "      <td>2</td>\n",
       "      <td>2820</td>\n",
       "    </tr>\n",
       "    <tr>\n",
       "      <th>99000</th>\n",
       "      <td>1195943</td>\n",
       "      <td>15</td>\n",
       "      <td>10</td>\n",
       "      <td>1998</td>\n",
       "      <td>5</td>\n",
       "      <td>female</td>\n",
       "      <td>111.0</td>\n",
       "      <td>2002</td>\n",
       "      <td>1524</td>\n",
       "      <td>11959</td>\n",
       "      <td>12554</td>\n",
       "      <td>11959</td>\n",
       "      <td>11462</td>\n",
       "      <td>0</td>\n",
       "      <td>1092</td>\n",
       "    </tr>\n",
       "    <tr>\n",
       "      <th>99001</th>\n",
       "      <td>1468023</td>\n",
       "      <td>23</td>\n",
       "      <td>11</td>\n",
       "      <td>1990</td>\n",
       "      <td>4</td>\n",
       "      <td>female</td>\n",
       "      <td>416.0</td>\n",
       "      <td>2560</td>\n",
       "      <td>185</td>\n",
       "      <td>4506</td>\n",
       "      <td>6516</td>\n",
       "      <td>4506</td>\n",
       "      <td>5760</td>\n",
       "      <td>0</td>\n",
       "      <td>756</td>\n",
       "    </tr>\n",
       "    <tr>\n",
       "      <th>99002</th>\n",
       "      <td>1397896</td>\n",
       "      <td>39</td>\n",
       "      <td>15</td>\n",
       "      <td>1974</td>\n",
       "      <td>5</td>\n",
       "      <td>female</td>\n",
       "      <td>397.0</td>\n",
       "      <td>2049</td>\n",
       "      <td>768</td>\n",
       "      <td>9410</td>\n",
       "      <td>12443</td>\n",
       "      <td>9410</td>\n",
       "      <td>9530</td>\n",
       "      <td>0</td>\n",
       "      <td>2913</td>\n",
       "    </tr>\n",
       "  </tbody>\n",
       "</table>\n",
       "<p>99003 rows × 15 columns</p>\n",
       "</div>"
      ],
      "text/plain": [
       "        userid  age  dob_day  dob_year  dob_month  gender  tenure  \\\n",
       "0      2094382   14       19      1999         11    male   266.0   \n",
       "1      1192601   14        2      1999         11  female     6.0   \n",
       "2      2083884   14       16      1999         11    male    13.0   \n",
       "3      1203168   14       25      1999         12  female    93.0   \n",
       "4      1733186   14        4      1999         12    male    82.0   \n",
       "...        ...  ...      ...       ...        ...     ...     ...   \n",
       "98998  1268299   68        4      1945          4  female   541.0   \n",
       "98999  1256153   18       12      1995          3  female    21.0   \n",
       "99000  1195943   15       10      1998          5  female   111.0   \n",
       "99001  1468023   23       11      1990          4  female   416.0   \n",
       "99002  1397896   39       15      1974          5  female   397.0   \n",
       "\n",
       "       friend_count  friendships_initiated  likes  likes_received  \\\n",
       "0                 0                      0      0               0   \n",
       "1                 0                      0      0               0   \n",
       "2                 0                      0      0               0   \n",
       "3                 0                      0      0               0   \n",
       "4                 0                      0      0               0   \n",
       "...             ...                    ...    ...             ...   \n",
       "98998          2118                    341   3996           18089   \n",
       "98999          1968                   1720   4401           13412   \n",
       "99000          2002                   1524  11959           12554   \n",
       "99001          2560                    185   4506            6516   \n",
       "99002          2049                    768   9410           12443   \n",
       "\n",
       "       mobile_likes  mobile_likes_received  www_likes  www_likes_received  \n",
       "0                 0                      0          0                   0  \n",
       "1                 0                      0          0                   0  \n",
       "2                 0                      0          0                   0  \n",
       "3                 0                      0          0                   0  \n",
       "4                 0                      0          0                   0  \n",
       "...             ...                    ...        ...                 ...  \n",
       "98998          3505                  11887        491                6202  \n",
       "98999          4399                  10592          2                2820  \n",
       "99000         11959                  11462          0                1092  \n",
       "99001          4506                   5760          0                 756  \n",
       "99002          9410                   9530          0                2913  \n",
       "\n",
       "[99003 rows x 15 columns]"
      ]
     },
     "execution_count": 57,
     "metadata": {},
     "output_type": "execute_result"
    }
   ],
   "source": [
    "df"
   ]
  },
  {
   "cell_type": "code",
   "execution_count": 59,
   "metadata": {},
   "outputs": [
    {
     "data": {
      "text/plain": [
       "40.96719944169262"
      ]
     },
     "execution_count": 59,
     "metadata": {},
     "output_type": "execute_result"
    }
   ],
   "source": [
    "#Average  mobie_likes received by the male users\n",
    "df[df['gender']=='male'].mobile_likes_received.mean()"
   ]
  },
  {
   "cell_type": "code",
   "execution_count": 62,
   "metadata": {},
   "outputs": [
    {
     "name": "stderr",
     "output_type": "stream",
     "text": [
      "C:\\Users\\GUDA\\anaconda3\\lib\\site-packages\\seaborn\\distributions.py:2551: FutureWarning: `distplot` is a deprecated function and will be removed in a future version. Please adapt your code to use either `displot` (a figure-level function with similar flexibility) or `kdeplot` (an axes-level function for kernel density plots).\n",
      "  warnings.warn(msg, FutureWarning)\n"
     ]
    },
    {
     "data": {
      "image/png": "[encoded data removed]",
      "text/plain": [
       "<Figure size 720x504 with 1 Axes>"
      ]
     },
     "metadata": {
      "needs_background": "light"
     },
     "output_type": "display_data"
    }
   ],
   "source": [
    "plt.figure(figsize=(10,7))\n",
    "sns.distplot(df[df['gender']=='male'].mobile_likes_received,hist=False)\n",
    "plt.show()"
   ]
  },
  {
   "cell_type": "code",
   "execution_count": 63,
   "metadata": {},
   "outputs": [
    {
     "data": {
      "text/plain": [
       "147.1008843841606"
      ]
     },
     "execution_count": 63,
     "metadata": {},
     "output_type": "execute_result"
    }
   ],
   "source": [
    "#The average mobile_likes received by the female users\n",
    "df[df['gender']=='female'].mobile_likes_received.mean()"
   ]
  },
  {
   "cell_type": "code",
   "execution_count": 64,
   "metadata": {},
   "outputs": [
    {
     "name": "stderr",
     "output_type": "stream",
     "text": [
      "C:\\Users\\GUDA\\anaconda3\\lib\\site-packages\\seaborn\\distributions.py:2551: FutureWarning: `distplot` is a deprecated function and will be removed in a future version. Please adapt your code to use either `displot` (a figure-level function with similar flexibility) or `kdeplot` (an axes-level function for kernel density plots).\n",
      "  warnings.warn(msg, FutureWarning)\n"
     ]
    },
    {
     "data": {
      "image/png": "[encoded data removed]",
      "text/plain": [
       "<Figure size 720x504 with 1 Axes>"
      ]
     },
     "metadata": {
      "needs_background": "light"
     },
     "output_type": "display_data"
    }
   ],
   "source": [
    "plt.figure(figsize=(10,7))\n",
    "sns.distplot(df[df['gender']=='female'].mobile_likes_received,hist=False)\n",
    "plt.show()"
   ]
  },
  {
   "cell_type": "code",
   "execution_count": 66,
   "metadata": {},
   "outputs": [
    {
     "data": {
      "text/plain": [
       "27.210863163628318"
      ]
     },
     "execution_count": 66,
     "metadata": {},
     "output_type": "execute_result"
    }
   ],
   "source": [
    "#The average likes web received by the male users\n",
    "df[df['gender']=='male'].www_likes_received.mean()"
   ]
  },
  {
   "cell_type": "code",
   "execution_count": 73,
   "metadata": {},
   "outputs": [
    {
     "data": {
      "image/png": "[encoded data removed]",
      "text/plain": [
       "<Figure size 720x504 with 1 Axes>"
      ]
     },
     "metadata": {
      "needs_background": "light"
     },
     "output_type": "display_data"
    }
   ],
   "source": [
    "plt.figure(figsize=(10,7))\n",
    "sns.boxplot(y=df[df['gender']=='male'].www_likes_received)\n",
    "plt.show()"
   ]
  },
  {
   "cell_type": "code",
   "execution_count": 68,
   "metadata": {},
   "outputs": [
    {
     "data": {
      "text/plain": [
       "104.33445123465991"
      ]
     },
     "execution_count": 68,
     "metadata": {},
     "output_type": "execute_result"
    }
   ],
   "source": [
    "#The average  web likes received by the female users\n",
    "df[df['gender']=='female'].www_likes_received.mean()"
   ]
  },
  {
   "cell_type": "code",
   "execution_count": 71,
   "metadata": {},
   "outputs": [
    {
     "data": {
      "image/png": "[encoded data removed]",
      "text/plain": [
       "<Figure size 720x504 with 1 Axes>"
      ]
     },
     "metadata": {
      "needs_background": "light"
     },
     "output_type": "display_data"
    }
   ],
   "source": [
    "plt.figure(figsize=(10,7))\n",
    "sns.boxplot(y=df[df['gender']=='female'].www_likes_received)\n",
    "plt.show()"
   ]
  },
  {
   "cell_type": "code",
   "execution_count": null,
   "metadata": {},
   "outputs": [],
   "source": [
    "#most likes recieved from the facebook mobile app and the most likes are recieved by the female users followed by male .\n"
   ]
  },
  {
   "cell_type": "code",
   "execution_count": null,
   "metadata": {},
   "outputs": [],
   "source": [
    "#MOST OF THE USERS ARE LIKE TO USE FACEBOOK ON THEIR MOBILE PHONES BECAUSE IT IS EASY TO CARRY AND MOST OF THEM HAVE MOBILE\n",
    "# BECAUSE OF ITS AFFORDABILITY."
   ]
  }
 ],
 "metadata": {
  "kernelspec": {
   "display_name": "Python 3",
   "language": "python",
   "name": "python3"
  },
  "language_info": {
   "codemirror_mode": {
    "name": "ipython",
    "version": 3
   },
   "file_extension": ".py",
   "mimetype": "text/x-python",
   "name": "python",
   "nbconvert_exporter": "python",
   "pygments_lexer": "ipython3",
   "version": "3.8.5"
  }
 },
 "nbformat": 4,
 "nbformat_minor": 4
}
